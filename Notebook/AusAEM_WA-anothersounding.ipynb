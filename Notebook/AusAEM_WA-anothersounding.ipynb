{
 "cells": [
  {
   "cell_type": "code",
   "execution_count": 1,
   "id": "eb378275-8682-42d1-b6bc-46bde7dd11b1",
   "metadata": {},
   "outputs": [],
   "source": [
    "import pandas as pd\n",
    "import numpy as np\n",
    "import matplotlib.pyplot as plt"
   ]
  },
  {
   "cell_type": "code",
   "execution_count": 2,
   "id": "eba318b5-999a-4680-a73c-ec9e660ac4d2",
   "metadata": {},
   "outputs": [],
   "source": [
    "# Start with just importing the time domain module of simpeg, and a utility to plot a layered model.\n",
    "import simpeg.electromagnetics.time_domain as tdem\n",
    "\n",
    "from simpeg.utils import mkvc, plot_1d_layer_model\n",
    "from simpeg import (\n",
    "    maps,\n",
    "    data,\n",
    "    data_misfit,\n",
    "    inverse_problem,\n",
    "    regularization,\n",
    "    optimization,\n",
    "    directives,\n",
    "    inversion,\n",
    "    utils,\n",
    "    inversion,\n",
    ")\n",
    "\n",
    "from simpeg.data_misfit import L2DataMisfit\n",
    "\n",
    "import discretize\n",
    "from discretize import TensorMesh"
   ]
  },
  {
   "cell_type": "code",
   "execution_count": 3,
   "id": "3ac56cdc-c7ba-47b0-b371-32bc3772f1b1",
   "metadata": {},
   "outputs": [
    {
     "ename": "IndentationError",
     "evalue": "expected an indented block (function.py, line 35)",
     "output_type": "error",
     "traceback": [
      "Traceback \u001b[0;36m(most recent call last)\u001b[0m:\n",
      "\u001b[0m  File \u001b[1;32m/Applications/anaconda3/envs/simpeg-env/lib/python3.9/site-packages/IPython/core/interactiveshell.py:3526\u001b[0m in \u001b[1;35mrun_code\u001b[0m\n    exec(code_obj, self.user_global_ns, self.user_ns)\u001b[0m\n",
      "\u001b[0;36m  Cell \u001b[0;32mIn[3], line 1\u001b[0;36m\n\u001b[0;31m    from function import (\u001b[0;36m\n",
      "\u001b[0;36m  File \u001b[0;32m~/Desktop/UBC/EOSC_556/Project/git/EOSC-556-Project/Notebook/function.py:35\u001b[0;36m\u001b[0m\n\u001b[0;31m    warnings.warn(\u001b[0m\n\u001b[0m    ^\u001b[0m\n\u001b[0;31mIndentationError\u001b[0m\u001b[0;31m:\u001b[0m expected an indented block\n"
     ]
    }
   ],
   "source": [
    "from function import (\n",
    "    plot_sounding,\n",
    "    get_sounding_df\n",
    ")"
   ]
  },
  {
   "cell_type": "markdown",
   "id": "be6180dd-ae72-43e4-9dab-f393b4c35448",
   "metadata": {},
   "source": [
    "### Load data from .csv"
   ]
  },
  {
   "cell_type": "code",
   "execution_count": null,
   "id": "6f82d614-4818-416e-adc8-076c5ebe7d52",
   "metadata": {},
   "outputs": [],
   "source": [
    "#please download data from \"release\" on the repository and rename the file_path below\n",
    "\n",
    "file_path = \"../../flight_line_101102_101201.csv\"\n",
    "file_path_all_data = \"../../AusAEM_WA_Block_E_EM.csv\"\n",
    "\n",
    "df = pd.read_csv(file_path, \n",
    "                 delimiter=\",\") \n",
    "\n",
    "df_all = pd.read_csv(file_path_all_data, \n",
    "                 delimiter=\",\") \n",
    "\n",
    "# Replace invalid values (-99999999) with NaN\n",
    "df.replace(-99999999, np.nan, inplace=True)\n",
    "df.replace(0, np.nan, inplace=True)\n",
    "# Drop rows with missing values\n",
    "df.dropna(inplace=True)"
   ]
  },
  {
   "cell_type": "markdown",
   "id": "a863c70c-86ee-4469-b521-f5879e0f94d3",
   "metadata": {},
   "source": [
    "### Select one souding"
   ]
  },
  {
   "cell_type": "code",
   "execution_count": null,
   "id": "ab587c80-35ca-4381-a124-9727eb53650c",
   "metadata": {},
   "outputs": [],
   "source": [
    "# input flight line number and sounding ID\n",
    "# 101102 or 101201\n",
    "flightline = 101102 # or 101201\n",
    "\n",
    "# 0 - 7420 for flight line 101102 \n",
    "# 7421 - 16261 for flight line 101201\n",
    "sounding = 1000\n",
    "\n",
    "plot_sounding(flightline, sounding, df, df_all)\n",
    "\n",
    "station, station_lm_data, station_hm_data, station_lm_std, station_hm_std = get_sounding_df(flightline, sounding, df)"
   ]
  },
  {
   "cell_type": "code",
   "execution_count": null,
   "id": "65ef85ac-cc5e-490c-984e-c1b6ff25ac10",
   "metadata": {},
   "outputs": [],
   "source": [
    "# load the gate opening time for LM and HM respectively\n",
    "LM_excel = \"../../LM_times.csv\"\n",
    "HM_excel = \"../../HM_times.csv\"\n",
    "LM_times_csv = pd.read_csv(LM_excel, \n",
    "                 #delim_whitespace=True,\n",
    "                 delimiter=\",\") \n",
    "HM_times_csv = pd.read_csv(HM_excel, \n",
    "                 #delim_whitespace=True,\n",
    "                 delimiter=\",\") "
   ]
  },
  {
   "cell_type": "code",
   "execution_count": null,
   "id": "f75f0418-1e66-4c2e-96f7-e570c4b41fbe",
   "metadata": {},
   "outputs": [],
   "source": [
    "# extract gate_centre (s)\n",
    "LM_times = LM_times_csv[\"Gate Centre (s)\"].to_numpy()\n",
    "HM_times = HM_times_csv[\"Gate Centre (s)\"].to_numpy()"
   ]
  },
  {
   "cell_type": "code",
   "execution_count": null,
   "id": "059ffbaf-e069-48cc-bf6a-fe5632445790",
   "metadata": {},
   "outputs": [],
   "source": [
    "# plot data for single station (1999)\n",
    "plt.loglog(LM_times, station_lm_data, label=\"low moment\")\n",
    "plt.loglog(HM_times, station_hm_data, label=\"high moment\")\n",
    "plt.grid()\n",
    "plt.xlabel('Time (s)')\n",
    "plt.ylabel('B (T)')\n",
    "plt.title('Observed data')\n",
    "plt.legend()\n",
    "plt.show()"
   ]
  },
  {
   "cell_type": "markdown",
   "id": "b64821b2-1484-4dc1-99cf-79e1e36fd353",
   "metadata": {},
   "source": [
    "### Setting up survey"
   ]
  },
  {
   "cell_type": "code",
   "execution_count": null,
   "id": "4a901ec9-84f0-4107-a07a-1b2e99c39962",
   "metadata": {},
   "outputs": [],
   "source": [
    "LM_waveform_excel = \"../../LM_waveform.csv\"\n",
    "HM_waveform_excel = \"../../HM_waveform.csv\"\n",
    "LM_waveform_csv = pd.read_csv(LM_waveform_excel, \n",
    "                 #delim_whitespace=True,\n",
    "                 delimiter=\",\") \n",
    "HM_waveform_csv = pd.read_csv(HM_waveform_excel, \n",
    "                 #delim_whitespace=True,\n",
    "                 delimiter=\",\") "
   ]
  },
  {
   "cell_type": "code",
   "execution_count": null,
   "id": "be791fbc-2c4d-4558-a4c3-3371a31a1156",
   "metadata": {},
   "outputs": [],
   "source": [
    "# extract the time and form from waveform_csv \n",
    "LM_wave_time = LM_waveform_csv[\"Time (s)\"]\n",
    "LM_wave_form = LM_waveform_csv[\"Amplitude\"]\n",
    "HM_wave_time = HM_waveform_csv[\"Time (s)\"]\n",
    "HM_wave_form = HM_waveform_csv[\"Amplitude\"]"
   ]
  },
  {
   "cell_type": "code",
   "execution_count": null,
   "id": "36af6f39-c9bd-4c4f-8a03-ae8c88dbe725",
   "metadata": {},
   "outputs": [],
   "source": [
    "fig, ax = plt.subplots(1, 2, figsize=(6,3))\n",
    "ax[0].plot(LM_wave_time, LM_wave_form)\n",
    "ax[0].set_ylabel(\"low moment current (normalized)\")\n",
    "ax[0].set_xlabel(\"time (s)\")\n",
    "\n",
    "ax[1].plot(HM_wave_time, HM_wave_form)\n",
    "ax[1].set_ylabel(\"high moment current (normalized)\")\n",
    "ax[1].set_xlabel(\"time (s)\")\n",
    "\n",
    "plt.tight_layout()"
   ]
  },
  {
   "cell_type": "code",
   "execution_count": null,
   "id": "73b9b83d-e4a4-47d8-903f-bc509a3217d8",
   "metadata": {},
   "outputs": [],
   "source": [
    "# shape of the transmitter, and the offset of the receiver coil.\n",
    "tx_shape = np.array([[-12.64,  -2.13,   0.  ],\n",
    "       [ -6.15,  -8.59,   0.  ],\n",
    "       [  5.74,  -8.59,   0.  ],\n",
    "       [ 11.13,  -3.19,   0.  ],\n",
    "       [ 11.13,   3.19,   0.  ],\n",
    "       [  5.74,   8.59,   0.  ],\n",
    "       [ -6.15,   8.59,   0.  ],\n",
    "       [-12.64,   2.13,   0.  ],\n",
    "       [-12.64,  -2.13,   0.  ]])\n",
    "rx_offset = np.array([-13.46,   0.  ,  -2.  ]) # from data processing report"
   ]
  },
  {
   "cell_type": "code",
   "execution_count": null,
   "id": "39597813-ad80-4e23-ae72-e327c9a98618",
   "metadata": {},
   "outputs": [],
   "source": [
    "# Extract x and y coordinates for transmitter shape\n",
    "tx_x = [point[0] for point in tx_shape]\n",
    "tx_y = [point[1] for point in tx_shape]\n",
    "\n",
    "# Scatter plot for transmitter shape\n",
    "plt.scatter(tx_x, tx_y, label='Transmitter Shape')\n",
    "\n",
    "# Scatter plot for receiver offset\n",
    "plt.scatter(rx_offset[0], rx_offset[1], label='Receiver Offset', color='red')\n",
    "\n",
    "# Add labels and legend\n",
    "plt.xlabel('x Coordinate')\n",
    "plt.ylabel('y Coordinate')\n",
    "plt.title('Transmitter Shape and Receiver Offset')\n",
    "plt.legend()\n",
    "\n",
    "# Show the plot\n",
    "plt.show()"
   ]
  },
  {
   "cell_type": "code",
   "execution_count": null,
   "id": "01a317fe-0759-4d02-b50b-fc495fd9a754",
   "metadata": {},
   "outputs": [],
   "source": [
    "# add UTM coordinates to transmitter shape and the receiver offset\n",
    "# tx_loc = tx_shape + [311527.56, 6783344.30, station[\"GPS_Alt\"].iloc[0]]\n",
    "tx_loc = tx_shape + [station[\"Easting\"].iloc[0], station[\"Northing\"].iloc[0], station[\"GPS_Alt\"].iloc[0]]\n",
    "rx_loc = rx_offset + [station[\"Easting\"].iloc[0], station[\"Northing\"].iloc[0], station[\"GPS_Alt\"].iloc[0]]\n",
    "tx_area=342.0 # from data processing report"
   ]
  },
  {
   "cell_type": "code",
   "execution_count": 34,
   "id": "c0d29c23-efc0-4d85-ac71-be9fee259d67",
   "metadata": {},
   "outputs": [],
   "source": [
    "# Low moment:\n",
    "rx_lm = tdem.receivers.PointMagneticFluxTimeDerivative(\n",
    "    rx_loc, LM_times, orientation='z'\n",
    ")\n",
    "\n",
    "lm_wave = tdem.sources.PiecewiseLinearWaveform(LM_wave_time, LM_wave_form)\n",
    "\n",
    "src_lm = tdem.sources.LineCurrent(rx_lm, tx_loc, waveform=lm_wave)"
   ]
  },
  {
   "cell_type": "code",
   "execution_count": 36,
   "id": "e4036e7e-83a2-45eb-96f8-b48986a50456",
   "metadata": {},
   "outputs": [],
   "source": [
    "# high moment\n",
    "rx_hm = tdem.receivers.PointMagneticFluxTimeDerivative(\n",
    "    rx_loc, HM_times, orientation='z'\n",
    ")\n",
    "\n",
    "hm_wave = tdem.sources.PiecewiseLinearWaveform(HM_wave_time, HM_wave_form)\n",
    "\n",
    "src_hm = tdem.sources.LineCurrent(rx_hm, tx_loc, waveform=hm_wave)"
   ]
  },
  {
   "cell_type": "code",
   "execution_count": 38,
   "id": "723de043-77f6-4de0-882e-4dca6b47f5fb",
   "metadata": {},
   "outputs": [],
   "source": [
    "srv = tdem.Survey([src_lm, src_hm])\n",
    "srv_lm = tdem.Survey(src_lm)\n",
    "srv_hm = tdem.Survey(src_hm)"
   ]
  },
  {
   "cell_type": "code",
   "execution_count": 40,
   "id": "60031ad1-2d6a-4306-8ebb-2ad9257e615d",
   "metadata": {},
   "outputs": [],
   "source": [
    "# simple forward simulation\n",
    "thicknesses = [] #[1]\n",
    "conductivities = [1e-3]"
   ]
  },
  {
   "cell_type": "code",
   "execution_count": 42,
   "id": "ec69c22c-4c4f-4b62-b64a-d684b4d00eb3",
   "metadata": {},
   "outputs": [],
   "source": [
    "sim = tdem.Simulation1DLayered(srv, sigma=conductivities, thicknesses=thicknesses)"
   ]
  },
  {
   "cell_type": "code",
   "execution_count": 44,
   "id": "6dae6787-3ff2-451d-8e73-dfb819596748",
   "metadata": {},
   "outputs": [
    {
     "data": {
      "image/png": "[encoded data removed]",
      "text/plain": [
       "<Figure size 640x480 with 1 Axes>"
      ]
     },
     "metadata": {},
     "output_type": "display_data"
    }
   ],
   "source": [
    "# sim.thicknesses = [5]\n",
    "# sim.sigma = [3E-1]\n",
    "pre = -sim.dpred(None)\n",
    "pre_lm = pre[:18]\n",
    "pre_hm = pre[18:]\n",
    "\n",
    "plt.loglog(LM_times, pre_lm, label=\"dpred_lm\")\n",
    "plt.loglog(HM_times, pre_hm, label=\"dpred_hm\")\n",
    "plt.loglog(LM_times, station_lm_data*tx_area, color='C0', marker='.', linestyle='', label=\"dobs_lm\")\n",
    "plt.loglog(HM_times, station_hm_data*tx_area, color='C1', marker='.', linestyle='', label=\"dobs_hm\")\n",
    "plt.xlabel(\"time (s)\")\n",
    "plt.ylabel(\"B (T)\")\n",
    "plt.legend()\n",
    "plt.show()"
   ]
  },
  {
   "cell_type": "markdown",
   "id": "31a0bdce-4783-4040-8cdc-f81662dab841",
   "metadata": {},
   "source": [
    "# Set up inversion for single station"
   ]
  },
  {
   "cell_type": "code",
   "execution_count": 46,
   "id": "d977b8ed-e0ec-4b35-9426-2be95ac61f79",
   "metadata": {},
   "outputs": [
    {
     "data": {
      "text/plain": [
       "array([0.00673795])"
      ]
     },
     "execution_count": 46,
     "metadata": {},
     "output_type": "execute_result"
    }
   ],
   "source": [
    "# map\n",
    "exp_map = maps.ExpMap()\n",
    "exp_map * np.array([-5])"
   ]
  },
  {
   "cell_type": "code",
   "execution_count": 47,
   "id": "4da1a99a-850c-47c9-a6c5-94e05f8b8746",
   "metadata": {},
   "outputs": [],
   "source": [
    "# observed data (normalised) & relative errors \n",
    "dobs = -tx_area * np.r_[station_lm_data, station_hm_data]\n",
    "rel_err = np.r_[station_lm_std, station_hm_std]\n",
    "\n",
    "# Convert 'dobs' to a proper numeric array\n",
    "dobs = np.array(dobs, dtype=np.float64)  # Force float64 conversion\n",
    "\n",
    "# Ensure no NaN or infinite values\n",
    "dobs = np.nan_to_num(dobs, nan=1e-10, posinf=1e-10, neginf=-1e-10)\n",
    "\n",
    "# Convert 'rel_err' to a proper numeric array\n",
    "rel_err = np.array(rel_err, dtype=np.float64)  # Ensure float64 type\n",
    "\n",
    "# Handle NaN or invalid values\n",
    "rel_err = np.nan_to_num(rel_err, nan=1e-10, posinf=1e-10, neginf=1e-10)\n",
    "\n",
    "# 5% of the absolute value\n",
    "uncertainties = 0.05 * np.abs(dobs) * np.ones(np.shape(dobs))\n",
    "\n",
    "# rel_err = np.full(41, 0.05)\n",
    "\n",
    "# data_container = data.Data(srv, dobs=dobs, relative_error=uncertainties) # method 2 to obtain data_object\n",
    "data_container = data.Data(srv, dobs=dobs, relative_error=rel_err) # method 1 to obtain data_object\n"
   ]
  },
  {
   "cell_type": "markdown",
   "id": "c7dd5adf-55d0-4b70-882c-686caaf0f3aa",
   "metadata": {},
   "source": [
    "### Parametric Halfspace inversion"
   ]
  },
  {
   "cell_type": "code",
   "execution_count": 52,
   "id": "9f5bf0f2-6597-4bce-a321-84049e85527e",
   "metadata": {},
   "outputs": [],
   "source": [
    "sim_inv1 = tdem.Simulation1DLayered(srv, sigmaMap=exp_map)"
   ]
  },
  {
   "cell_type": "code",
   "execution_count": 54,
   "id": "cedd8c6f-087e-407a-b1fe-2ea412cfc169",
   "metadata": {},
   "outputs": [],
   "source": [
    "phi_d_1 = L2DataMisfit(data=data_container, simulation=sim_inv1)"
   ]
  },
  {
   "cell_type": "code",
   "execution_count": 56,
   "id": "5688d0f3-5bd9-42a6-9e8a-fc3036bfc21b",
   "metadata": {},
   "outputs": [
    {
     "data": {
      "text/plain": [
       "29467612.618881837"
      ]
     },
     "execution_count": 56,
     "metadata": {},
     "output_type": "execute_result"
    }
   ],
   "source": [
    "# we can evaluate this function.\n",
    "m_0 = np.log(1E-2)  # sigma = 1E-2 S/m\n",
    "\n",
    "phi_d_1(m_0)"
   ]
  },
  {
   "cell_type": "code",
   "execution_count": 57,
   "id": "ae9886eb-8ebc-44a6-b482-8ebb4c9972ac",
   "metadata": {},
   "outputs": [],
   "source": [
    "minimizer = opt = optimization.InexactGaussNewton(\n",
    "    maxIter=10, maxIterLS=20, maxIterCG=10, tolCG=1e-3\n",
    ")\n",
    "# Here, Inexact means we are going to use CG to solve for the step direction."
   ]
  },
  {
   "cell_type": "code",
   "execution_count": 58,
   "id": "f72148fb-5985-4794-bb8a-785aac321e68",
   "metadata": {},
   "outputs": [],
   "source": [
    "empty_reg = regularization.Smallness(discretize.TensorMesh([1]))\n",
    "# note we needed to pass a mesh that had a single cell\n",
    "# in it because our model has 1 value."
   ]
  },
  {
   "cell_type": "code",
   "execution_count": 62,
   "id": "be90dc79-f5ac-447e-a5e3-4b194f98d057",
   "metadata": {},
   "outputs": [],
   "source": [
    "inv_prob_1 = inverse_problem.BaseInvProblem(\n",
    "    phi_d_1, reg=empty_reg, opt=minimizer, beta=0.0\n",
    ")\n",
    "\n",
    "# sets up, phi_d + 0 * phi_m, meaning the minimizer is only going to act on the data misfit term."
   ]
  },
  {
   "cell_type": "code",
   "execution_count": 64,
   "id": "efa27768-a5cb-4b30-91f8-b0b7b8c2781f",
   "metadata": {},
   "outputs": [],
   "source": [
    "inv1 = inversion.BaseInversion(inv_prob_1, [])"
   ]
  },
  {
   "cell_type": "code",
   "execution_count": 66,
   "id": "ec33bfc9-c511-4aab-953f-955ca057cce4",
   "metadata": {},
   "outputs": [
    {
     "name": "stdout",
     "output_type": "stream",
     "text": [
      "\n",
      "Running inversion with SimPEG v0.22.2\n",
      "simpeg.InvProblem will set Regularization.reference_model to m0.\n",
      "\n",
      "                        simpeg.InvProblem is setting bfgsH0 to the inverse of the eval2Deriv.\n",
      "                        ***Done using same Solver, and solver_opts as the Simulation1DLayered problem***\n",
      "                        \n",
      "model has any nan: 0\n",
      "============================ Inexact Gauss Newton ============================\n",
      "  #     beta     phi_d     phi_m       f      |proj(x-g)-x|  LS    Comment   \n",
      "-----------------------------------------------------------------------------\n",
      "x0 has any nan: 0\n",
      "   0  0.00e+00  2.95e+07  0.00e+00  2.95e+07    1.11e+05      0              \n",
      "   1  0.00e+00  2.94e+07  1.05e+00  2.94e+07    4.05e+03      6              \n",
      "   2  0.00e+00  2.94e+07  9.39e-01  2.94e+07    2.65e+03      7              \n",
      "   3  0.00e+00  2.94e+07  1.01e+00  2.94e+07    1.35e+03      7              \n",
      "   4  0.00e+00  2.94e+07  9.70e-01  2.94e+07    8.01e+02      7              \n",
      "   5  0.00e+00  2.94e+07  9.90e-01  2.94e+07    4.39e+02      7              \n",
      "   6  0.00e+00  2.94e+07  9.79e-01  2.94e+07    2.52e+02      7              \n",
      "   7  0.00e+00  2.94e+07  9.85e-01  2.94e+07    1.41e+02      7              \n",
      "   8  0.00e+00  2.94e+07  9.82e-01  2.94e+07    7.98e+01      7              \n",
      "   9  0.00e+00  2.94e+07  9.84e-01  2.94e+07    4.49e+01      7              \n",
      "  10  0.00e+00  2.94e+07  9.83e-01  2.94e+07    2.54e+01      7              \n",
      "------------------------- STOP! -------------------------\n",
      "1 : |fc-fOld| = 5.7911e-03 <= tolF*(1+|f0|) = 2.9468e+06\n",
      "1 : |xc-x_last| = 5.9345e-04 <= tolX*(1+|x0|) = 5.6052e-01\n",
      "0 : |proj(x-g)-x|    = 2.5380e+01 <= tolG          = 1.0000e-01\n",
      "0 : |proj(x-g)-x|    = 2.5380e+01 <= 1e3*eps       = 1.0000e-02\n",
      "1 : maxIter   =      10    <= iter          =     10\n",
      "------------------------- DONE! -------------------------\n"
     ]
    }
   ],
   "source": [
    "# Run inversion\n",
    "recovered_model = inv1.run(m_0)"
   ]
  },
  {
   "cell_type": "code",
   "execution_count": 68,
   "id": "048de309-4fcc-46a5-89cd-2a768f3e232e",
   "metadata": {},
   "outputs": [
    {
     "data": {
      "text/plain": [
       "array([0.0269462])"
      ]
     },
     "execution_count": 68,
     "metadata": {},
     "output_type": "execute_result"
    }
   ],
   "source": [
    "# What was our recovered best fitting halfspace?\n",
    "sim_inv1.sigmaMap * recovered_model"
   ]
  },
  {
   "cell_type": "code",
   "execution_count": 70,
   "id": "f74c8463-8f40-4756-acc2-7af6077305ec",
   "metadata": {},
   "outputs": [],
   "source": [
    "# This function returns a data object\n",
    "# (so we can easily index it with receivers for plotting)\n",
    "data_pre = sim_inv1.make_synthetic_data(recovered_model)"
   ]
  },
  {
   "cell_type": "code",
   "execution_count": 72,
   "id": "52f8b079-3d20-4f08-af4f-de5e8eaf8623",
   "metadata": {},
   "outputs": [
    {
     "data": {
      "image/png": "[encoded data removed]",
      "text/plain": [
       "<Figure size 640x480 with 1 Axes>"
      ]
     },
     "metadata": {},
     "output_type": "display_data"
    }
   ],
   "source": [
    "def plot_data(data_obj):\n",
    "    plt.loglog(LM_times, -data_obj[src_lm, rx_lm])\n",
    "    plt.loglog(HM_times, -data_obj[src_hm, rx_hm])\n",
    "    \n",
    "    plt.loglog(\n",
    "        LM_times, -data_container[src_lm, rx_lm], color='C0', marker='x', linestyle=\"\"\n",
    "    )\n",
    "    plt.loglog(\n",
    "        HM_times, -data_container[src_hm, rx_hm], color='C1', marker='x', linestyle=\"\"\n",
    "    )\n",
    "    \n",
    "plot_data(data_pre)"
   ]
  },
  {
   "cell_type": "markdown",
   "id": "a60d3a59-fbf9-489f-9cec-e4edec689981",
   "metadata": {},
   "source": [
    "### Multiple layers"
   ]
  },
  {
   "cell_type": "code",
   "execution_count": 92,
   "id": "48639451-61c2-4880-b460-16e4f1593636",
   "metadata": {},
   "outputs": [],
   "source": [
    "n_layers = 3\n",
    "wire_map = maps.Wires(('sigma',n_layers), ('thicknesses', n_layers-1))"
   ]
  },
  {
   "cell_type": "code",
   "execution_count": 94,
   "id": "d3f5531c-d598-4efb-950e-48be3ccd64ad",
   "metadata": {},
   "outputs": [],
   "source": [
    "sigma_map = exp_map * wire_map.sigma\n",
    "thick_map = wire_map.thicknesses # exp_map * wire_map.thicknesses # delete exp_map"
   ]
  },
  {
   "cell_type": "code",
   "execution_count": 96,
   "id": "48a8a8f0-9c63-47ba-b93c-3ea1156640eb",
   "metadata": {},
   "outputs": [],
   "source": [
    "# let's use the best fitting half-space as our initial model\n",
    "m_sigma_0_2 = np.full(n_layers, recovered_model[0])  # Already in log-space\n",
    "m_h_0_2 = np.log(np.full(n_layers-1, 10))\n",
    "m_0_2 = np.r_[m_sigma_0_2, m_h_0_2]\n",
    "\n",
    "sim_inv2 = tdem.Simulation1DLayered(srv, sigmaMap=sigma_map, thicknessesMap=thick_map)"
   ]
  },
  {
   "cell_type": "code",
   "execution_count": 98,
   "id": "39a8a8ad-bb45-4d49-8ed2-d9abe64f3970",
   "metadata": {},
   "outputs": [
    {
     "data": {
      "text/plain": [
       "array([0.0269462, 0.0269462, 0.0269462])"
      ]
     },
     "execution_count": 98,
     "metadata": {},
     "output_type": "execute_result"
    }
   ],
   "source": [
    "sim_inv2.model = m_0_2\n",
    "sim_inv2.sigma"
   ]
  },
  {
   "cell_type": "code",
   "execution_count": 100,
   "id": "10f38ef2-d20a-47d1-844c-071a8590a4bc",
   "metadata": {},
   "outputs": [],
   "source": [
    "phi_d_2 = L2DataMisfit(data=data_container, simulation=sim_inv2)\n",
    "\n",
    "# create all of the same components of the inversion problem as before\n",
    "minimizer2 = opt = optimization.InexactGaussNewton(\n",
    "    maxIter=10, maxIterLS=20, maxIterCG=10, tolCG=1e-3\n",
    ")\n",
    "\n",
    "# again create a reg that has the same input size as the model vector, and then turn it off by setting `beta=0`\n",
    "empty_reg = regularization.Smallness(discretize.TensorMesh([len(m_0_2)]))\n",
    "inv_prob_2 = inverse_problem.BaseInvProblem(\n",
    "    phi_d_2, reg=empty_reg, opt=minimizer2, beta=0.0\n",
    ")"
   ]
  },
  {
   "cell_type": "code",
   "execution_count": 102,
   "id": "351e2cad-11cf-4f1d-bba2-bb73188049c4",
   "metadata": {},
   "outputs": [
    {
     "name": "stdout",
     "output_type": "stream",
     "text": [
      "\n",
      "Running inversion with SimPEG v0.22.2\n",
      "simpeg.InvProblem will set Regularization.reference_model to m0.\n",
      "\n",
      "                        simpeg.InvProblem is setting bfgsH0 to the inverse of the eval2Deriv.\n",
      "                        ***Done using same Solver, and solver_opts as the Simulation1DLayered problem***\n",
      "                        \n",
      "model has any nan: 0\n",
      "============================ Inexact Gauss Newton ============================\n",
      "  #     beta     phi_d     phi_m       f      |proj(x-g)-x|  LS    Comment   \n",
      "-----------------------------------------------------------------------------\n",
      "x0 has any nan: 0\n",
      "   0  0.00e+00  2.94e+07  0.00e+00  2.94e+07    2.41e+04      0              \n"
     ]
    },
    {
     "name": "stderr",
     "output_type": "stream",
     "text": [
      "/Applications/anaconda3/envs/simpeg-env/lib/python3.9/site-packages/simpeg/maps/_property_maps.py:48: RuntimeWarning: overflow encountered in exp\n",
      "  return np.exp(mkvc(m))\n"
     ]
    },
    {
     "name": "stdout",
     "output_type": "stream",
     "text": [
      "   1  0.00e+00  2.93e+07  4.20e+00  2.93e+07    1.49e+05     15              \n",
      "   2  0.00e+00  2.92e+07  1.10e+01  2.92e+07    5.28e+05     13   Skip BFGS  \n",
      "   3  0.00e+00  2.90e+07  1.33e+01  2.90e+07    1.35e+05      6   Skip BFGS  \n",
      "   4  0.00e+00  2.90e+07  1.34e+01  2.90e+07    1.35e+05     18   Skip BFGS  \n",
      "   5  0.00e+00  2.90e+07  1.35e+01  2.90e+07    1.34e+05     18   Skip BFGS  \n",
      "   6  0.00e+00  2.90e+07  1.36e+01  2.90e+07    1.34e+05     18   Skip BFGS  \n",
      "   7  0.00e+00  2.90e+07  1.37e+01  2.90e+07    1.34e+05     18   Skip BFGS  \n",
      "   8  0.00e+00  2.90e+07  1.38e+01  2.90e+07    1.33e+05     18   Skip BFGS  \n",
      "   9  0.00e+00  2.90e+07  1.40e+01  2.90e+07    1.33e+05     18   Skip BFGS  \n",
      "  10  0.00e+00  2.90e+07  1.42e+01  2.90e+07    1.34e+05     17   Skip BFGS  \n",
      "------------------------- STOP! -------------------------\n",
      "1 : |fc-fOld| = 1.0674e+01 <= tolF*(1+|f0|) = 2.9410e+06\n",
      "1 : |xc-x_last| = 1.5489e-01 <= tolX*(1+|x0|) = 8.0558e-01\n",
      "0 : |proj(x-g)-x|    = 1.3350e+05 <= tolG          = 1.0000e-01\n",
      "0 : |proj(x-g)-x|    = 1.3350e+05 <= 1e3*eps       = 1.0000e-02\n",
      "1 : maxIter   =      10    <= iter          =     10\n",
      "------------------------- DONE! -------------------------\n"
     ]
    }
   ],
   "source": [
    "inv2 = inversion.BaseInversion(inv_prob_2, [])\n",
    "\n",
    "# Run inversion\n",
    "recovered_model_2 = inv2.run(m_0_2)"
   ]
  },
  {
   "cell_type": "code",
   "execution_count": 103,
   "id": "4cd1862e-c249-41d2-8287-288681c90011",
   "metadata": {},
   "outputs": [
    {
     "data": {
      "text/plain": [
       "(array([8.69679182e-01, 1.01422234e-03, 1.59431865e-04]),\n",
       " array([-2.37700316,  2.62553739]))"
      ]
     },
     "execution_count": 103,
     "metadata": {},
     "output_type": "execute_result"
    }
   ],
   "source": [
    "data_pre_2 = sim_inv2.make_synthetic_data(recovered_model_2)\n",
    "sim_inv2.sigma, sim_inv2.thicknesses"
   ]
  },
  {
   "cell_type": "code",
   "execution_count": 104,
   "id": "79e59ac8-86c0-4c46-8ebe-d6e4555b50e7",
   "metadata": {},
   "outputs": [
    {
     "data": {
      "text/plain": [
       "<matplotlib.lines.Line2D at 0x132761400>"
      ]
     },
     "execution_count": 104,
     "metadata": {},
     "output_type": "execute_result"
    },
    {
     "data": {
      "image/png": "[encoded data removed]",
      "text/plain": [
       "<Figure size 600x600 with 1 Axes>"
      ]
     },
     "metadata": {},
     "output_type": "display_data"
    }
   ],
   "source": [
    "ax = plot_1d_layer_model(sim_inv2.thicknesses, sim_inv2.sigma)\n",
    "ax.axvline(sim_inv1.sigma, color='C1')\n",
    "#ax.set_ylim([50, 0])\n",
    "#ax.set_xlim([1E-2, 1E0]);"
   ]
  },
  {
   "cell_type": "code",
   "execution_count": 105,
   "id": "65cc9c83-a3f2-4d19-99d2-d7946e10daea",
   "metadata": {},
   "outputs": [
    {
     "data": {
      "image/png": "[encoded data removed]",
      "text/plain": [
       "<Figure size 640x480 with 1 Axes>"
      ]
     },
     "metadata": {},
     "output_type": "display_data"
    }
   ],
   "source": [
    "plot_data(data_pre_2)"
   ]
  },
  {
   "cell_type": "markdown",
   "id": "baa7f47a-5b73-45b4-ae47-7a182a7accc7",
   "metadata": {},
   "source": [
    "### Regularized inversion"
   ]
  },
  {
   "cell_type": "code",
   "execution_count": 113,
   "id": "48157328-b21a-4322-9be0-e41355bdcd6e",
   "metadata": {},
   "outputs": [
    {
     "data": {
      "text/html": [
       "<table>\n",
       "  <tr>\n",
       "    <td style='font-weight: bold; font-size: 1.2em; text-align: center;' colspan='3'>TensorMesh</td>\n",
       "    <td style='font-size: 1.2em; text-align: center;'colspan='4'>64 cells</td>\n",
       "  </tr>\n",
       "  <tr>\n",
       "    <th></th>\n",
       "    <th></th>\n",
       "    <th colspan='2' style='padding: 5px 20px 5px 20px;'>MESH EXTENT</th>\n",
       "    <th colspan='2' style='padding: 5px 20px 5px 20px;'>CELL WIDTH</th>\n",
       "    <th style='padding: 5px 20px 5px 20px;'>FACTOR</th>\n",
       "  </tr>\n",
       "  <tr>\n",
       "    <th style='padding: 5px 20px 5px 20px;'>dir</th>\n",
       "    <th style='padding: 5px 20px 5px 20px;'>nC</th>\n",
       "    <th style='padding: 5px 20px 5px 20px;'>min</th>\n",
       "    <th style='padding: 5px 20px 5px 20px;'>max</th>\n",
       "    <th style='padding: 5px 20px 5px 20px;'>min</th>\n",
       "    <th style='padding: 5px 20px 5px 20px;'>max</th>\n",
       "    <th style='padding: 5px 20px 5px 20px;'>max</th>\n",
       "  </tr>\n",
       "  <tr>\n",
       "    <td style='padding: 5px 20px 5px 20px;'>x</td>\n",
       "    <td style='padding: 5px 20px 5px 20px;'>64</td>\n",
       "    <td style='padding: 5px 20px 5px 20px;'>0.00</td>\n",
       "    <td style='padding: 5px 20px 5px 20px;'>434.09</td>\n",
       "    <td style='padding: 5px 20px 5px 20px;'>1.00</td>\n",
       "    <td style='padding: 5px 20px 5px 20px;'>21.62</td>\n",
       "    <td style='padding: 5px 20px 5px 20px;'>1.05</td>\n",
       "  </tr>\n",
       "</table>\n"
      ],
      "text/plain": [
       "\n",
       "  TensorMesh: 64 cells\n",
       "\n",
       "                      MESH EXTENT             CELL WIDTH      FACTOR\n",
       "  dir    nC        min           max         min       max      max\n",
       "  ---   ---  ---------------------------  ------------------  ------\n",
       "   x     64          0.00        434.09      1.00     21.62    1.05\n"
      ]
     },
     "execution_count": 113,
     "metadata": {},
     "output_type": "execute_result"
    }
   ],
   "source": [
    "# (start_size, number_of_cells, expansion_factor)\n",
    "h = [1, (1.0, 63, 1.05)]\n",
    "mesh = discretize.TensorMesh([h,])\n",
    "mesh"
   ]
  },
  {
   "cell_type": "code",
   "execution_count": 115,
   "id": "32c84cfb-9cf0-4116-a6dd-6bb0bd1b9539",
   "metadata": {},
   "outputs": [],
   "source": [
    "sim_reg = tdem.Simulation1DLayered(srv, sigmaMap=exp_map, thicknesses=mesh.h[0][:-1])\n",
    "\n",
    "phi_d_reg = L2DataMisfit(data=data_container, simulation=sim_reg)\n",
    "\n",
    "# This class creates a function that measures the smallness\n",
    "# and the smoothness of the model.\n",
    "reg = regularization.WeightedLeastSquares(mesh)"
   ]
  },
  {
   "cell_type": "code",
   "execution_count": 117,
   "id": "a0d0e2d2-fc65-4df5-9d63-9327265600d7",
   "metadata": {},
   "outputs": [],
   "source": [
    "m_0_reg = np.full(mesh.n_cells, recovered_model[0])"
   ]
  },
  {
   "cell_type": "code",
   "execution_count": 119,
   "id": "8439a09a-1abf-4e37-9d8f-9f6f5c73bb7c",
   "metadata": {},
   "outputs": [],
   "source": [
    "# create all of the same components of the inversion problem as before\n",
    "minimizer_reg = optimization.InexactGaussNewton(\n",
    "    maxIter=10, maxIterLS=20, maxIterCG=10, tolCG=1e-3\n",
    ")\n",
    "\n",
    "inv_prob_3 = inverse_problem.BaseInvProblem(\n",
    "    phi_d_reg, reg=reg, opt=minimizer_reg #, beta=5 # change beta !\n",
    ")"
   ]
  },
  {
   "cell_type": "code",
   "execution_count": 121,
   "id": "d0863b59-dcc0-4eba-9d3c-6a55f6de5fc6",
   "metadata": {},
   "outputs": [],
   "source": [
    "# update_jacobi = directives.UpdatePreconditioner(update_every_iteration=True)\n",
    "starting_beta = directives.BetaEstimate_ByEig(beta0_ratio=5)\n",
    "beta_schedule = directives.BetaSchedule(coolingFactor=2.0, coolingRate=3)\n",
    "target_misfit = directives.TargetMisfit(chifact=1.0)\n",
    "\n",
    "directives_list_L2 = [starting_beta, beta_schedule, target_misfit]"
   ]
  },
  {
   "cell_type": "code",
   "execution_count": 123,
   "id": "7c00f9bd-b56b-4b35-930f-7e2bfd4bec90",
   "metadata": {},
   "outputs": [
    {
     "name": "stdout",
     "output_type": "stream",
     "text": [
      "\n",
      "Running inversion with SimPEG v0.22.2\n",
      "simpeg.InvProblem will set Regularization.reference_model to m0.\n",
      "simpeg.InvProblem will set Regularization.reference_model to m0.\n",
      "simpeg.InvProblem will set Regularization.reference_model to m0.\n",
      "\n",
      "                        simpeg.InvProblem is setting bfgsH0 to the inverse of the eval2Deriv.\n",
      "                        ***Done using same Solver, and solver_opts as the Simulation1DLayered problem***\n",
      "                        \n",
      "model has any nan: 0\n",
      "============================ Inexact Gauss Newton ============================\n",
      "  #     beta     phi_d     phi_m       f      |proj(x-g)-x|  LS    Comment   \n",
      "-----------------------------------------------------------------------------\n",
      "x0 has any nan: 0\n",
      "   0  1.10e+01  2.94e+07  0.00e+00  2.94e+07    3.34e+04      0              \n",
      "   1  1.10e+01  2.94e+07  1.96e+02  2.94e+07    6.92e+04      5              \n",
      "   2  1.10e+01  2.93e+07  8.60e+01  2.93e+07    2.79e+04      5              \n",
      "   3  5.49e+00  2.92e+07  1.91e+02  2.92e+07    5.55e+04      6              \n",
      "   4  5.49e+00  2.91e+07  4.71e+02  2.91e+07    1.44e+05      5              \n",
      "   5  5.49e+00  2.91e+07  5.93e+02  2.91e+07    4.47e+04      6              \n",
      "   6  2.74e+00  2.91e+07  1.00e+03  2.91e+07    6.01e+04      5              \n",
      "   7  2.74e+00  2.91e+07  1.67e+03  2.91e+07    7.75e+04      5              \n",
      "   8  2.74e+00  2.91e+07  2.23e+03  2.91e+07    5.99e+04      5              \n",
      "   9  1.37e+00  2.91e+07  2.62e+03  2.91e+07    7.22e+04      5              \n",
      "  10  1.37e+00  2.90e+07  5.31e+03  2.90e+07    1.45e+05      4              \n",
      "------------------------- STOP! -------------------------\n",
      "1 : |fc-fOld| = 8.6857e+03 <= tolF*(1+|f0|) = 2.9410e+06\n",
      "0 : |xc-x_last| = 7.2861e+00 <= tolX*(1+|x0|) = 2.9911e+00\n",
      "0 : |proj(x-g)-x|    = 1.4528e+05 <= tolG          = 1.0000e-01\n",
      "0 : |proj(x-g)-x|    = 1.4528e+05 <= 1e3*eps       = 1.0000e-02\n",
      "1 : maxIter   =      10    <= iter          =     10\n",
      "------------------------- DONE! -------------------------\n"
     ]
    }
   ],
   "source": [
    "inv3 = inversion.BaseInversion(inv_prob_3, directives_list_L2)\n",
    "\n",
    "# Run inversion\n",
    "recovered_model_3 = inv3.run(m_0_reg)"
   ]
  },
  {
   "cell_type": "code",
   "execution_count": 129,
   "id": "1b3cc476-5cdf-4a18-a695-160809ee8621",
   "metadata": {},
   "outputs": [
    {
     "data": {
      "text/plain": [
       "(300.0, 0.0)"
      ]
     },
     "execution_count": 129,
     "metadata": {},
     "output_type": "execute_result"
    },
    {
     "data": {
      "image/png": "[encoded data removed]",
      "text/plain": [
       "<Figure size 600x600 with 1 Axes>"
      ]
     },
     "metadata": {},
     "output_type": "display_data"
    }
   ],
   "source": [
    "data_pre_3 = sim_reg.make_synthetic_data(recovered_model_3)\n",
    "ax = plot_1d_layer_model(sim_inv2.thicknesses, sim_inv2.sigma)\n",
    "ax.axvline(sim_inv1.sigma, color='C1')\n",
    "plot_1d_layer_model(sim_reg.thicknesses, sim_reg.sigma, ax=ax, color='C2')\n",
    "ax.set_ylim([300, 0])\n",
    "#ax.set_xlim([1E-3, 1E0])"
   ]
  },
  {
   "cell_type": "code",
   "execution_count": 131,
   "id": "3fe34237-245d-4262-bf93-a1179961c745",
   "metadata": {},
   "outputs": [
    {
     "data": {
      "image/png": "[encoded data removed]",
      "text/plain": [
       "<Figure size 640x480 with 1 Axes>"
      ]
     },
     "metadata": {},
     "output_type": "display_data"
    }
   ],
   "source": [
    "plot_data(data_pre_3)"
   ]
  },
  {
   "cell_type": "code",
   "execution_count": null,
   "id": "107d0ed9-a9ac-4651-a685-fba21dc5ccb7",
   "metadata": {},
   "outputs": [],
   "source": []
  },
  {
   "cell_type": "code",
   "execution_count": null,
   "id": "dc0a6ad0-235a-4121-9327-cb73abe78a5b",
   "metadata": {},
   "outputs": [],
   "source": []
  },
  {
   "cell_type": "code",
   "execution_count": null,
   "id": "c5d4ed78-e8e5-4cde-a29d-22e59619fd7a",
   "metadata": {},
   "outputs": [],
   "source": []
  },
  {
   "cell_type": "code",
   "execution_count": null,
   "id": "ecbf7f7b-790d-4646-a10b-ba52a64c52d9",
   "metadata": {},
   "outputs": [],
   "source": []
  },
  {
   "cell_type": "code",
   "execution_count": null,
   "id": "c31f55b7-b1b2-47e3-948f-e0297311d156",
   "metadata": {},
   "outputs": [],
   "source": []
  },
  {
   "cell_type": "code",
   "execution_count": null,
   "id": "da8201fc-f0f7-4696-9491-fb36f224cef0",
   "metadata": {},
   "outputs": [],
   "source": []
  },
  {
   "cell_type": "code",
   "execution_count": null,
   "id": "21a8296d-c966-478f-8bdc-ae3f76dcd38f",
   "metadata": {},
   "outputs": [],
   "source": []
  },
  {
   "cell_type": "code",
   "execution_count": null,
   "id": "21eefccb-772b-401d-9735-b9a20b0d9dc3",
   "metadata": {},
   "outputs": [],
   "source": []
  },
  {
   "cell_type": "code",
   "execution_count": 151,
   "id": "af0ff094-08de-4935-b81d-315e702ffb96",
   "metadata": {},
   "outputs": [],
   "source": [
    "beta_cooler = directives.BetaSchedule(coolingFactor=5, coolingRate=2)"
   ]
  },
  {
   "cell_type": "code",
   "execution_count": 153,
   "id": "c7287b4f-7779-4df9-81c3-fdc5a9c397ac",
   "metadata": {},
   "outputs": [],
   "source": [
    "save_dict = directives.SaveOutputDictEveryIteration()"
   ]
  },
  {
   "cell_type": "code",
   "execution_count": 155,
   "id": "b851e2ae-7b15-466f-85a4-f941896dfedd",
   "metadata": {},
   "outputs": [
    {
     "name": "stdout",
     "output_type": "stream",
     "text": [
      "\n",
      "Running inversion with SimPEG v0.22.2\n",
      "\n",
      "                        simpeg.InvProblem is setting bfgsH0 to the inverse of the eval2Deriv.\n",
      "                        ***Done using same Solver, and solver_opts as the Simulation1DLayered problem***\n",
      "                        \n",
      "model has any nan: 0\n",
      "============================ Inexact Gauss Newton ============================\n",
      "  #     beta     phi_d     phi_m       f      |proj(x-g)-x|  LS    Comment   \n",
      "-----------------------------------------------------------------------------\n",
      "x0 has any nan: 0\n",
      "   0  1.00e+04  2.81e+07  0.00e+00  2.81e+07    6.42e+05      0              \n"
     ]
    },
    {
     "name": "stderr",
     "output_type": "stream",
     "text": [
      "\n",
      "KeyboardInterrupt\n",
      "\n"
     ]
    }
   ],
   "source": [
    "# create all of the same components of the inversion problem as before\n",
    "minimizer_reg = opt = optimization.InexactGaussNewton(\n",
    "    maxIter=20, maxIterLS=20, maxIterCG=100, tolCG=1e-5\n",
    ")\n",
    "\n",
    "inv_prob_4 = inverse_problem.BaseInvProblem(\n",
    "    phi_d_reg, reg=reg, opt=minimizer_reg, beta=10000\n",
    ")\n",
    "\n",
    "inv4 = inversion.BaseInversion(inv_prob_4, [save_dict, beta_cooler])\n",
    "\n",
    "# Run inversion\n",
    "recovered_model_4 = inv4.run(m_0_reg)"
   ]
  },
  {
   "cell_type": "code",
   "execution_count": null,
   "id": "e83e3205-9fef-48ef-88a4-b2ccbd32b673",
   "metadata": {},
   "outputs": [],
   "source": [
    "n_iter = save_dict.opt.iter\n",
    "phi_ds = [save_dict.outDict[i]['phi_d'] for i in range(1, n_iter)]\n",
    "phi_ms = [save_dict.outDict[i]['phi_m'] for i in range(1, n_iter)]\n",
    "betas =  [save_dict.outDict[i]['beta'] for i in range(1, n_iter)]"
   ]
  },
  {
   "cell_type": "code",
   "execution_count": null,
   "id": "319e9760-ec95-448f-8785-58f141239f79",
   "metadata": {},
   "outputs": [],
   "source": [
    "\n",
    "# this is an L-curvey plot\n",
    "plt.loglog(phi_ms, phi_ds)\n",
    "plt.loglog(phi_ms[14], phi_ds[14], marker='*', markersize=10)"
   ]
  },
  {
   "cell_type": "code",
   "execution_count": null,
   "id": "3ea2efb5-effa-48e5-bedb-db3bba06d8a2",
   "metadata": {},
   "outputs": [],
   "source": [
    "m_final = save_dict.outDict[14]['m']\n",
    "d_final = sim_reg.make_synthetic_data(m_final)\n",
    "ax = plot_1d_layer_model(sim_reg.thicknesses, exp_map * m_final)\n",
    "plot_1d_layer_model(sim_inv2.thicknesses, sim_inv2.sigma, ax=ax)\n",
    "ax.set_ylim([300, 0])\n",
    "ax.set_xlim([1E-3, 1E0])"
   ]
  },
  {
   "cell_type": "code",
   "execution_count": null,
   "id": "08b6bb83-c0dd-4d6f-be9b-1437a7c1ae0a",
   "metadata": {},
   "outputs": [],
   "source": [
    "plot_data(d_final)"
   ]
  },
  {
   "cell_type": "code",
   "execution_count": null,
   "id": "d1a8a47c-6d4c-45b6-b007-531fcdfe2f5e",
   "metadata": {},
   "outputs": [],
   "source": []
  }
 ],
 "metadata": {
  "kernelspec": {
   "display_name": "Python [conda env:simpeg-env]",
   "language": "python",
   "name": "conda-env-simpeg-env-py"
  },
  "language_info": {
   "codemirror_mode": {
    "name": "ipython",
    "version": 3
   },
   "file_extension": ".py",
   "mimetype": "text/x-python",
   "name": "python",
   "nbconvert_exporter": "python",
   "pygments_lexer": "ipython3",
   "version": "3.9.21"
  }
 },
 "nbformat": 4,
 "nbformat_minor": 5
}
