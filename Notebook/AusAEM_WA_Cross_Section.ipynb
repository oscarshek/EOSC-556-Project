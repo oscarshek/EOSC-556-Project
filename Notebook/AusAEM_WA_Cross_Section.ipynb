{
 "cells": [
  {
   "cell_type": "markdown",
   "id": "de900900-50df-4b40-bf1b-e0d27663edfa",
   "metadata": {},
   "source": [
    "### Import modules"
   ]
  },
  {
   "cell_type": "code",
   "execution_count": 4,
   "id": "d959c4bd-ef86-4e06-9772-31196618a038",
   "metadata": {},
   "outputs": [],
   "source": [
    "import pandas as pd\n",
    "import numpy as np\n",
    "import matplotlib.pyplot as plt"
   ]
  },
  {
   "cell_type": "code",
   "execution_count": 5,
   "id": "7948a62e-2eea-450c-bf2f-3c6fc2eb351c",
   "metadata": {},
   "outputs": [],
   "source": [
    "import simpeg.electromagnetics.time_domain as tdem\n",
    "\n",
    "from simpeg.utils import mkvc, plot_1d_layer_model\n",
    "from simpeg import (\n",
    "    maps,\n",
    "    data,\n",
    "    data_misfit,\n",
    "    inverse_problem,\n",
    "    regularization,\n",
    "    optimization,\n",
    "    directives,\n",
    "    inversion,\n",
    "    utils,\n",
    "    inversion,\n",
    ")\n",
    "\n",
    "from simpeg.data_misfit import L2DataMisfit\n",
    "\n",
    "import discretize\n",
    "from discretize import TensorMesh"
   ]
  },
  {
   "cell_type": "code",
   "execution_count": 6,
   "id": "597994c3-3ba7-4809-9aec-bc6b1d288c8d",
   "metadata": {},
   "outputs": [],
   "source": [
    "from function import (\n",
    "    plot_sounding,\n",
    "    get_sounding_df\n",
    ")"
   ]
  },
  {
   "cell_type": "code",
   "execution_count": 227,
   "id": "c825a8e2-6423-46f5-904f-74c85a126583",
   "metadata": {},
   "outputs": [],
   "source": [
    "def plot_data(data_obj):\n",
    "    plt.loglog(LM_times, -data_obj[src_lm, rx_lm])\n",
    "    plt.loglog(HM_times, -data_obj[src_hm, rx_hm])\n",
    "    \n",
    "    plt.loglog(\n",
    "        LM_times, -data_container[src_lm, rx_lm], color='C0', marker='x', linestyle=\"\"\n",
    "    )\n",
    "    plt.loglog(\n",
    "        HM_times, -data_container[src_hm, rx_hm], color='C1', marker='x', linestyle=\"\"\n",
    "    )"
   ]
  },
  {
   "cell_type": "markdown",
   "id": "d8bfadaf-9fc5-40f4-ac7b-d9750a5ab894",
   "metadata": {},
   "source": [
    "### Load data from .csv"
   ]
  },
  {
   "cell_type": "code",
   "execution_count": 8,
   "id": "7f7305d8-2b9e-46af-8f42-5968bad85bab",
   "metadata": {},
   "outputs": [
    {
     "name": "stderr",
     "output_type": "stream",
     "text": [
      "/var/folders/nv/3rmg65wj733gdy4gk5sxm8cc0000gn/T/ipykernel_2763/1952385971.py:9: DtypeWarning: Columns (153,154,156,171) have mixed types. Specify dtype option on import or set low_memory=False.\n",
      "  df_all = pd.read_csv(file_path_all_data,\n"
     ]
    }
   ],
   "source": [
    "#please download data from \"release\" on the repository and rename the file_path below\n",
    "\n",
    "file_path = \"../../flight_line_101102_101201.csv\"\n",
    "file_path_all_data = \"../../AusAEM_WA_Block_E_EM.csv\"\n",
    "\n",
    "df = pd.read_csv(file_path, \n",
    "                 delimiter=\",\") \n",
    "\n",
    "df_all = pd.read_csv(file_path_all_data, \n",
    "                 delimiter=\",\") \n",
    "\n",
    "# Replace invalid values (-99999999) with NaN\n",
    "df.replace(-99999999, np.nan, inplace=True)\n",
    "df.replace(0, np.nan, inplace=True)\n",
    "# Drop rows with missing values\n",
    "df.dropna(inplace=True)"
   ]
  },
  {
   "cell_type": "code",
   "execution_count": 85,
   "id": "b945396f-82e0-498b-8325-bd4b46a168c4",
   "metadata": {},
   "outputs": [],
   "source": [
    "# input flight line number and sounding ID\n",
    "# 101102 or 101201\n",
    "flightline = 101102 # or 101201\n",
    "\n",
    "# 0 - 7420 for flight line 101102 \n",
    "# 7421 - 16261 for flight line 101201\n",
    "sounding = 7300 #7300\n",
    "\n",
    "station, station_lm_data, station_hm_data, station_lm_std, station_hm_std = get_sounding_df(flightline, sounding, df)"
   ]
  },
  {
   "cell_type": "markdown",
   "id": "59a93d9f-be93-460d-8d1a-1072ea077c37",
   "metadata": {},
   "source": [
    "### Survey (Sounding-Independent)"
   ]
  },
  {
   "cell_type": "markdown",
   "id": "6f617f74-eff4-4466-b263-85345b4569f3",
   "metadata": {},
   "source": [
    "1. Gate centre times"
   ]
  },
  {
   "cell_type": "code",
   "execution_count": 123,
   "id": "670e444c-d5bd-4636-9387-e15c5f193198",
   "metadata": {},
   "outputs": [],
   "source": [
    "# load the gate opening time for LM and HM respectively\n",
    "LM_excel = \"../../LM_times.csv\"\n",
    "HM_excel = \"../../HM_times.csv\"\n",
    "LM_times_csv = pd.read_csv(LM_excel, \n",
    "                 #delim_whitespace=True,\n",
    "                 delimiter=\",\") \n",
    "HM_times_csv = pd.read_csv(HM_excel, \n",
    "                 #delim_whitespace=True,\n",
    "                 delimiter=\",\") "
   ]
  },
  {
   "cell_type": "code",
   "execution_count": 126,
   "id": "bf562d53-7d3e-43d0-bfd5-0bdd17e83eaf",
   "metadata": {},
   "outputs": [],
   "source": [
    "# extract gate_centre (s)\n",
    "LM_times = LM_times_csv[\"Gate Centre (s)\"].to_numpy()\n",
    "HM_times = HM_times_csv[\"Gate Centre (s)\"].to_numpy()"
   ]
  },
  {
   "cell_type": "markdown",
   "id": "cabd677c-355f-45ac-9482-de86f1a72bd0",
   "metadata": {},
   "source": [
    "2. Waveform"
   ]
  },
  {
   "cell_type": "code",
   "execution_count": 117,
   "id": "e9576d5e-2345-4afc-9dc6-f799b343660f",
   "metadata": {},
   "outputs": [],
   "source": [
    "LM_waveform_excel = \"../../LM_waveform.csv\"\n",
    "HM_waveform_excel = \"../../HM_waveform.csv\"\n",
    "LM_waveform_csv = pd.read_csv(LM_waveform_excel, \n",
    "                 #delim_whitespace=True,\n",
    "                 delimiter=\",\") \n",
    "HM_waveform_csv = pd.read_csv(HM_waveform_excel, \n",
    "                 #delim_whitespace=True,\n",
    "                 delimiter=\",\") "
   ]
  },
  {
   "cell_type": "code",
   "execution_count": 119,
   "id": "b3e96861-8a5b-4cae-bd0e-8436925db121",
   "metadata": {},
   "outputs": [],
   "source": [
    "# extract the time and form from waveform_csv \n",
    "LM_wave_time = LM_waveform_csv[\"Time (s)\"]\n",
    "LM_wave_form = LM_waveform_csv[\"Amplitude\"]\n",
    "HM_wave_time = HM_waveform_csv[\"Time (s)\"]\n",
    "HM_wave_form = HM_waveform_csv[\"Amplitude\"]"
   ]
  },
  {
   "cell_type": "markdown",
   "id": "063b0499-fe8b-4837-a03d-9332cb67b364",
   "metadata": {},
   "source": [
    "3. Transmitter and Receiver Location"
   ]
  },
  {
   "cell_type": "code",
   "execution_count": 101,
   "id": "7c9a9d8f-7923-42b1-b674-16535049c909",
   "metadata": {},
   "outputs": [],
   "source": [
    "# shape of the transmitter, and the offset of the receiver coil.\n",
    "tx_shape = np.array([[-12.64,  -2.13,   0.  ],\n",
    "                     [ -6.15,  -8.59,   0.  ],\n",
    "                     [  5.74,  -8.59,   0.  ],\n",
    "                     [ 11.13,  -3.19,   0.  ],\n",
    "                     [ 11.13,   3.19,   0.  ],\n",
    "                     [  5.74,   8.59,   0.  ],\n",
    "                     [ -6.15,   8.59,   0.  ],\n",
    "                     [-12.64,   2.13,   0.  ],\n",
    "                     [-12.64,  -2.13,   0.  ]])\n",
    "rx_offset = np.array([-13.46,   0.  ,  -2.  ]) # from data processing report\n",
    "\n",
    "tx_area=342.0 # from data processing report"
   ]
  },
  {
   "cell_type": "markdown",
   "id": "64983dbe-89d6-4c7d-b67f-631f89d435a8",
   "metadata": {},
   "source": [
    "### Mesh Setup"
   ]
  },
  {
   "cell_type": "code",
   "execution_count": 138,
   "id": "89292acc-8487-4948-9975-75a9852393e9",
   "metadata": {},
   "outputs": [
    {
     "data": {
      "text/plain": [
       "array([0.00673795])"
      ]
     },
     "execution_count": 138,
     "metadata": {},
     "output_type": "execute_result"
    }
   ],
   "source": [
    "# map\n",
    "exp_map = maps.ExpMap()\n",
    "exp_map * np.array([-5])"
   ]
  },
  {
   "cell_type": "code",
   "execution_count": 721,
   "id": "18d6d5d2-c0c6-4194-ba45-b2fbcc56741a",
   "metadata": {},
   "outputs": [
    {
     "data": {
      "text/html": [
       "<table>\n",
       "  <tr>\n",
       "    <td style='font-weight: bold; font-size: 1.2em; text-align: center;' colspan='3'>TensorMesh</td>\n",
       "    <td style='font-size: 1.2em; text-align: center;'colspan='4'>40 cells</td>\n",
       "  </tr>\n",
       "  <tr>\n",
       "    <th></th>\n",
       "    <th></th>\n",
       "    <th colspan='2' style='padding: 5px 20px 5px 20px;'>MESH EXTENT</th>\n",
       "    <th colspan='2' style='padding: 5px 20px 5px 20px;'>CELL WIDTH</th>\n",
       "    <th style='padding: 5px 20px 5px 20px;'>FACTOR</th>\n",
       "  </tr>\n",
       "  <tr>\n",
       "    <th style='padding: 5px 20px 5px 20px;'>dir</th>\n",
       "    <th style='padding: 5px 20px 5px 20px;'>nC</th>\n",
       "    <th style='padding: 5px 20px 5px 20px;'>min</th>\n",
       "    <th style='padding: 5px 20px 5px 20px;'>max</th>\n",
       "    <th style='padding: 5px 20px 5px 20px;'>min</th>\n",
       "    <th style='padding: 5px 20px 5px 20px;'>max</th>\n",
       "    <th style='padding: 5px 20px 5px 20px;'>max</th>\n",
       "  </tr>\n",
       "  <tr>\n",
       "    <td style='padding: 5px 20px 5px 20px;'>x</td>\n",
       "    <td style='padding: 5px 20px 5px 20px;'>40</td>\n",
       "    <td style='padding: 5px 20px 5px 20px;'>0.00</td>\n",
       "    <td style='padding: 5px 20px 5px 20px;'>442.59</td>\n",
       "    <td style='padding: 5px 20px 5px 20px;'>1.00</td>\n",
       "    <td style='padding: 5px 20px 5px 20px;'>41.14</td>\n",
       "    <td style='padding: 5px 20px 5px 20px;'>1.10</td>\n",
       "  </tr>\n",
       "</table>\n"
      ],
      "text/plain": [
       "\n",
       "  TensorMesh: 40 cells\n",
       "\n",
       "                      MESH EXTENT             CELL WIDTH      FACTOR\n",
       "  dir    nC        min           max         min       max      max\n",
       "  ---   ---  ---------------------------  ------------------  ------\n",
       "   x     40          0.00        442.59      1.00     41.14    1.10\n"
      ]
     },
     "execution_count": 721,
     "metadata": {},
     "output_type": "execute_result"
    }
   ],
   "source": [
    "# (start_size, number_of_cells, expansion_factor)\n",
    "h = [1, (1.0, 39, 1.10)]\n",
    "mesh = discretize.TensorMesh([h,])\n",
    "mesh"
   ]
  },
  {
   "cell_type": "markdown",
   "id": "5dc8fd9e-7fe1-491a-bbcc-01309f4e00e0",
   "metadata": {},
   "source": [
    "### Inversion"
   ]
  },
  {
   "cell_type": "code",
   "execution_count": 724,
   "id": "ca0134d3-959a-40b6-9508-d1a5c1abeeac",
   "metadata": {},
   "outputs": [],
   "source": [
    "# 0 - 7420 for flight line 101102 \n",
    "# 7421 - 16261 for flight line 101201\n",
    "sounding_list = [7350,7225,7100,6975] #,6850,6725,6600,6450,6325,6200,5975,5850,5625,5500] #[7350]#[7400,7300,7200,7100,7000]\n",
    "# Initialize an empty list to store the data\n",
    "data_list = []"
   ]
  },
  {
   "cell_type": "code",
   "execution_count": 725,
   "id": "7b88ad7e-8359-479f-b7ad-045b8e3f8f71",
   "metadata": {},
   "outputs": [],
   "source": [
    "# Pre-define parameters outside the loop that don't change\n",
    "m_0 = np.log(1E-2)  # sigma = 1E-2 S/m\n",
    "minimizer_params = {\n",
    "    'maxIter': 10, \n",
    "    'maxIterLS': 20, \n",
    "    'maxIterCG': 10, \n",
    "    'tolCG': 1e-3\n",
    "}\n",
    "\n",
    "# Create a single instance of shared objects\n",
    "empty_reg = regularization.Smallness(discretize.TensorMesh([1]))\n",
    "beta_schedule = directives.BetaSchedule(coolingFactor=2.0, coolingRate=3)\n",
    "save_dict = directives.SaveOutputDictEveryIteration()"
   ]
  },
  {
   "cell_type": "code",
   "execution_count": 728,
   "id": "e296de5e-0b9d-4c3d-8d8e-0591c9cefed5",
   "metadata": {
    "scrolled": true
   },
   "outputs": [
    {
     "name": "stdout",
     "output_type": "stream",
     "text": [
      "\n",
      "Running inversion with SimPEG v0.22.2\n",
      "simpeg.InvProblem will set Regularization.reference_model to m0.\n",
      "\n",
      "                        simpeg.InvProblem is setting bfgsH0 to the inverse of the eval2Deriv.\n",
      "                        ***Done using same Solver, and solver_opts as the Simulation1DLayered problem***\n",
      "                        \n",
      "model has any nan: 0\n",
      "============================ Inexact Gauss Newton ============================\n",
      "  #     beta     phi_d     phi_m       f      |proj(x-g)-x|  LS    Comment   \n",
      "-----------------------------------------------------------------------------\n",
      "x0 has any nan: 0\n",
      "   0  0.00e+00  7.52e+06  0.00e+00  7.52e+06    5.23e+06      0              \n",
      "   1  0.00e+00  3.97e+06  1.25e+00  3.97e+06    4.91e+06      0              \n",
      "   2  0.00e+00  3.56e+06  9.33e-01  3.56e+06    7.05e+05      0              \n",
      "   3  0.00e+00  3.55e+06  8.79e-01  3.55e+06    8.98e+04      0   Skip BFGS  \n",
      "   4  0.00e+00  3.55e+06  8.72e-01  3.55e+06    1.11e+04      0   Skip BFGS  \n",
      "   5  0.00e+00  3.55e+06  8.71e-01  3.55e+06    1.35e+03      0   Skip BFGS  \n",
      "   6  0.00e+00  3.55e+06  8.71e-01  3.55e+06    1.66e+02      0   Skip BFGS  \n",
      "   7  0.00e+00  3.55e+06  8.71e-01  3.55e+06    5.01e-04      0   Skip BFGS  \n",
      "------------------------- STOP! -------------------------\n",
      "1 : |fc-fOld| = 6.5545e-04 <= tolF*(1+|f0|) = 7.5179e+05\n",
      "1 : |xc-x_last| = 7.0450e-06 <= tolX*(1+|x0|) = 5.6052e-01\n",
      "1 : |proj(x-g)-x|    = 5.0080e-04 <= tolG          = 1.0000e-01\n",
      "1 : |proj(x-g)-x|    = 5.0080e-04 <= 1e3*eps       = 1.0000e-02\n",
      "0 : maxIter   =      15    <= iter          =      7\n",
      "------------------------- DONE! -------------------------\n",
      "\n",
      "Running inversion with SimPEG v0.22.2\n",
      "simpeg.InvProblem will set Regularization.reference_model to m0.\n",
      "simpeg.InvProblem will set Regularization.reference_model to m0.\n",
      "simpeg.InvProblem will set Regularization.reference_model to m0.\n",
      "\n",
      "                        simpeg.InvProblem is setting bfgsH0 to the inverse of the eval2Deriv.\n",
      "                        ***Done using same Solver, and solver_opts as the Simulation1DLayered problem***\n",
      "                        \n",
      "model has any nan: 0\n",
      "============================ Inexact Gauss Newton ============================\n",
      "  #     beta     phi_d     phi_m       f      |proj(x-g)-x|  LS    Comment   \n",
      "-----------------------------------------------------------------------------\n",
      "x0 has any nan: 0\n",
      "   0  1.00e+00  3.55e+06  0.00e+00  3.55e+06    8.54e+05      0              \n",
      "   1  1.00e+00  3.01e+06  1.32e+03  3.01e+06    1.60e+06      2              \n",
      "   2  1.00e+00  1.99e+06  1.37e+03  1.99e+06    1.72e+06      1              \n",
      "   3  5.00e-01  1.71e+06  1.15e+03  1.71e+06    2.43e+06      1              \n",
      "   4  5.00e-01  6.02e+05  2.34e+03  6.03e+05    1.35e+06      0              \n",
      "   5  5.00e-01  1.99e+05  1.91e+03  2.00e+05    6.19e+05      0              \n",
      "   6  2.50e-01  5.95e+04  1.75e+03  6.00e+04    3.32e+05      0              \n",
      "   7  2.50e-01  6.10e+03  1.79e+03  6.55e+03    8.65e+04      0   Skip BFGS  \n",
      "   8  2.50e-01  2.29e+03  1.80e+03  2.74e+03    1.42e+04      0   Skip BFGS  \n",
      "   9  1.25e-01  2.13e+03  1.78e+03  2.36e+03    4.22e+03      0   Skip BFGS  \n",
      "  10  1.25e-01  2.07e+03  1.81e+03  2.30e+03    1.50e+03      0              \n",
      "  11  1.25e-01  2.04e+03  1.81e+03  2.27e+03    5.92e+02      0              \n",
      "  12  6.25e-02  2.00e+03  1.85e+03  2.11e+03    5.50e+03      1              \n",
      "  13  6.25e-02  1.97e+03  1.86e+03  2.08e+03    2.17e+03      0              \n",
      "  14  6.25e-02  1.95e+03  1.89e+03  2.07e+03    3.05e+03      1   Skip BFGS  \n",
      "  15  3.12e-02  1.93e+03  1.97e+03  1.99e+03    5.17e+03      0   Skip BFGS  \n",
      "------------------------- STOP! -------------------------\n",
      "1 : |fc-fOld| = 7.3284e+01 <= tolF*(1+|f0|) = 3.5509e+05\n",
      "1 : |xc-x_last| = 5.6655e-01 <= tolX*(1+|x0|) = 2.4224e+00\n",
      "0 : |proj(x-g)-x|    = 5.1711e+03 <= tolG          = 1.0000e-01\n",
      "0 : |proj(x-g)-x|    = 5.1711e+03 <= 1e3*eps       = 1.0000e-02\n",
      "1 : maxIter   =      15    <= iter          =     15\n",
      "------------------------- DONE! -------------------------\n",
      "\n",
      "Running inversion with SimPEG v0.22.2\n",
      "\n",
      "                        simpeg.InvProblem is setting bfgsH0 to the inverse of the eval2Deriv.\n",
      "                        ***Done using same Solver, and solver_opts as the Simulation1DLayered problem***\n",
      "                        \n",
      "model has any nan: 0\n",
      "============================ Inexact Gauss Newton ============================\n",
      "  #     beta     phi_d     phi_m       f      |proj(x-g)-x|  LS    Comment   \n",
      "-----------------------------------------------------------------------------\n",
      "x0 has any nan: 0\n",
      "   0  0.00e+00  6.47e+07  0.00e+00  6.47e+07    2.13e+07      0              \n",
      "   1  0.00e+00  4.55e+06  4.90e+00  4.55e+06    2.81e+07      1              \n",
      "   2  0.00e+00  1.99e+06  4.14e+00  1.99e+06    1.98e+06      0              \n",
      "   3  0.00e+00  1.97e+06  4.08e+00  1.97e+06    7.11e+04      0   Skip BFGS  \n",
      "   4  0.00e+00  1.97e+06  4.08e+00  1.97e+06    2.26e+03      0   Skip BFGS  \n",
      "   5  0.00e+00  1.97e+06  4.08e+00  1.97e+06    1.27e-02      0   Skip BFGS  \n",
      "------------------------- STOP! -------------------------\n",
      "1 : |fc-fOld| = 2.1074e-02 <= tolF*(1+|f0|) = 6.4748e+06\n",
      "1 : |xc-x_last| = 1.8043e-05 <= tolX*(1+|x0|) = 5.6052e-01\n",
      "1 : |proj(x-g)-x|    = 1.2650e-02 <= tolG          = 1.0000e-01\n",
      "0 : |proj(x-g)-x|    = 1.2650e-02 <= 1e3*eps       = 1.0000e-02\n",
      "0 : maxIter   =      15    <= iter          =      5\n",
      "------------------------- DONE! -------------------------\n",
      "\n",
      "Running inversion with SimPEG v0.22.2\n",
      "simpeg.InvProblem will set Regularization.reference_model to m0.\n",
      "simpeg.InvProblem will set Regularization.reference_model to m0.\n",
      "simpeg.InvProblem will set Regularization.reference_model to m0.\n",
      "\n",
      "                        simpeg.InvProblem is setting bfgsH0 to the inverse of the eval2Deriv.\n",
      "                        ***Done using same Solver, and solver_opts as the Simulation1DLayered problem***\n",
      "                        \n",
      "model has any nan: 0\n",
      "============================ Inexact Gauss Newton ============================\n",
      "  #     beta     phi_d     phi_m       f      |proj(x-g)-x|  LS    Comment   \n",
      "-----------------------------------------------------------------------------\n",
      "x0 has any nan: 0\n"
     ]
    },
    {
     "name": "stderr",
     "output_type": "stream",
     "text": [
      "/Applications/anaconda3/envs/simpeg-env/lib/python3.9/site-packages/simpeg/directives/directives.py:320: UserWarning: InversionDirective SaveOutputDictEveryIteration has switched to a new inversion.\n",
      "  d.inversion = i\n",
      "/Applications/anaconda3/envs/simpeg-env/lib/python3.9/site-packages/simpeg/directives/directives.py:320: UserWarning: InversionDirective BetaSchedule has switched to a new inversion.\n",
      "  d.inversion = i\n"
     ]
    },
    {
     "name": "stdout",
     "output_type": "stream",
     "text": [
      "   0  1.00e+00  1.97e+06  0.00e+00  1.97e+06    1.33e+06      0              \n",
      "   1  1.00e+00  1.81e+06  2.55e+01  1.81e+06    2.22e+06      3              \n",
      "   2  1.00e+00  1.58e+06  6.63e+01  1.58e+06    2.63e+06      3   Skip BFGS  \n",
      "   3  5.00e-01  9.64e+05  2.42e+02  9.65e+05    2.72e+06      1   Skip BFGS  \n",
      "   4  5.00e-01  7.84e+05  4.01e+02  7.84e+05    3.68e+06      0   Skip BFGS  \n",
      "   5  5.00e-01  1.69e+05  3.63e+02  1.69e+05    1.70e+06      0   Skip BFGS  \n",
      "   6  2.50e-01  2.44e+04  3.15e+02  2.45e+04    4.91e+05      0   Skip BFGS  \n",
      "   7  2.50e-01  2.43e+04  3.17e+02  2.44e+04    4.95e+05      6              \n",
      "   8  2.50e-01  2.43e+04  3.19e+02  2.43e+04    4.98e+05      7   Skip BFGS  \n",
      "   9  1.25e-01  2.42e+04  3.21e+02  2.42e+04    5.01e+05      7   Skip BFGS  \n",
      "  10  1.25e-01  2.41e+04  3.22e+02  2.42e+04    5.03e+05      7   Skip BFGS  \n",
      "  11  1.25e-01  2.40e+04  3.24e+02  2.41e+04    5.05e+05      7   Skip BFGS  \n",
      "  12  6.25e-02  2.39e+04  3.25e+02  2.39e+04    5.06e+05      7   Skip BFGS  \n",
      "  13  6.25e-02  2.39e+04  3.28e+02  2.39e+04    5.13e+05      6   Skip BFGS  \n",
      "  14  6.25e-02  2.38e+04  3.31e+02  2.38e+04    5.16e+05      6   Skip BFGS  \n",
      "  15  3.12e-02  2.37e+04  3.33e+02  2.37e+04    5.17e+05      6   Skip BFGS  \n",
      "------------------------- STOP! -------------------------\n",
      "1 : |fc-fOld| = 1.6614e+02 <= tolF*(1+|f0|) = 1.9702e+05\n",
      "1 : |xc-x_last| = 1.0326e-01 <= tolX*(1+|x0|) = 1.7357e+00\n",
      "0 : |proj(x-g)-x|    = 5.1714e+05 <= tolG          = 1.0000e-01\n",
      "0 : |proj(x-g)-x|    = 5.1714e+05 <= 1e3*eps       = 1.0000e-02\n",
      "1 : maxIter   =      15    <= iter          =     15\n",
      "------------------------- DONE! -------------------------\n",
      "\n",
      "Running inversion with SimPEG v0.22.2\n",
      "\n",
      "                        simpeg.InvProblem is setting bfgsH0 to the inverse of the eval2Deriv.\n",
      "                        ***Done using same Solver, and solver_opts as the Simulation1DLayered problem***\n",
      "                        \n",
      "model has any nan: 0\n",
      "============================ Inexact Gauss Newton ============================\n",
      "  #     beta     phi_d     phi_m       f      |proj(x-g)-x|  LS    Comment   \n",
      "-----------------------------------------------------------------------------\n",
      "x0 has any nan: 0\n",
      "   0  0.00e+00  2.02e+06  0.00e+00  2.02e+06    2.45e+06      0              \n",
      "   1  0.00e+00  1.25e+06  2.49e-01  1.25e+06    8.50e+04      0              \n",
      "   2  0.00e+00  1.25e+06  2.42e-01  1.25e+06    1.20e+04      0              \n",
      "   3  0.00e+00  1.25e+06  2.41e-01  1.25e+06    1.67e+03      0   Skip BFGS  \n",
      "   4  0.00e+00  1.25e+06  2.41e-01  1.25e+06    2.34e+02      0   Skip BFGS  \n",
      "   5  0.00e+00  1.25e+06  2.41e-01  1.25e+06    2.10e-03      0   Skip BFGS  \n",
      "------------------------- STOP! -------------------------\n",
      "1 : |fc-fOld| = 2.7298e-03 <= tolF*(1+|f0|) = 2.0152e+05\n",
      "1 : |xc-x_last| = 2.0510e-05 <= tolX*(1+|x0|) = 5.6052e-01\n",
      "1 : |proj(x-g)-x|    = 2.0972e-03 <= tolG          = 1.0000e-01\n",
      "1 : |proj(x-g)-x|    = 2.0972e-03 <= 1e3*eps       = 1.0000e-02\n",
      "0 : maxIter   =      15    <= iter          =      5\n",
      "------------------------- DONE! -------------------------\n",
      "\n",
      "Running inversion with SimPEG v0.22.2\n",
      "simpeg.InvProblem will set Regularization.reference_model to m0.\n",
      "simpeg.InvProblem will set Regularization.reference_model to m0.\n",
      "simpeg.InvProblem will set Regularization.reference_model to m0.\n",
      "\n",
      "                        simpeg.InvProblem is setting bfgsH0 to the inverse of the eval2Deriv.\n",
      "                        ***Done using same Solver, and solver_opts as the Simulation1DLayered problem***\n",
      "                        \n",
      "model has any nan: 0\n",
      "============================ Inexact Gauss Newton ============================\n",
      "  #     beta     phi_d     phi_m       f      |proj(x-g)-x|  LS    Comment   \n",
      "-----------------------------------------------------------------------------\n",
      "x0 has any nan: 0\n",
      "   0  1.00e+00  1.25e+06  0.00e+00  1.25e+06    4.92e+05      0              \n",
      "   1  1.00e+00  1.11e+06  1.67e+03  1.11e+06    1.54e+06      1              \n",
      "   2  1.00e+00  8.76e+05  1.54e+03  8.77e+05    1.50e+06      2              \n",
      "   3  5.00e-01  8.21e+05  1.55e+03  8.22e+05    1.43e+06      3   Skip BFGS  \n",
      "   4  5.00e-01  8.16e+05  1.63e+03  8.17e+05    1.46e+06      3   Skip BFGS  \n",
      "   5  5.00e-01  7.85e+05  1.66e+03  7.86e+05    1.39e+06      4              \n",
      "   6  2.50e-01  7.54e+05  1.71e+03  7.54e+05    1.36e+06      4   Skip BFGS  \n",
      "   7  2.50e-01  7.32e+05  1.77e+03  7.32e+05    1.37e+06      4   Skip BFGS  \n",
      "   8  2.50e-01  6.97e+05  1.82e+03  6.98e+05    1.33e+06      4              \n",
      "   9  1.25e-01  6.61e+05  1.89e+03  6.61e+05    1.29e+06      4              \n",
      "  10  1.25e-01  6.60e+05  2.30e+03  6.60e+05    1.50e+06      2              \n",
      "  11  1.25e-01  6.12e+05  2.93e+03  6.13e+05    1.54e+06      1              \n",
      "  12  6.25e-02  4.50e+05  5.50e+03  4.51e+05    1.26e+06      0   Skip BFGS  \n",
      "  13  6.25e-02  2.91e+05  4.36e+03  2.92e+05    7.93e+05      1              \n",
      "  14  6.25e-02  1.95e+05  5.08e+03  1.95e+05    6.18e+05      1   Skip BFGS  \n",
      "  15  3.12e-02  1.68e+05  4.79e+03  1.68e+05    5.68e+05      2              \n",
      "------------------------- STOP! -------------------------\n",
      "1 : |fc-fOld| = 2.6630e+04 <= tolF*(1+|f0|) = 1.2539e+05\n",
      "0 : |xc-x_last| = 3.1242e+00 <= tolX*(1+|x0|) = 2.7021e+00\n",
      "0 : |proj(x-g)-x|    = 5.6799e+05 <= tolG          = 1.0000e-01\n",
      "0 : |proj(x-g)-x|    = 5.6799e+05 <= 1e3*eps       = 1.0000e-02\n",
      "1 : maxIter   =      15    <= iter          =     15\n",
      "------------------------- DONE! -------------------------\n",
      "\n",
      "Running inversion with SimPEG v0.22.2\n",
      "\n",
      "                        simpeg.InvProblem is setting bfgsH0 to the inverse of the eval2Deriv.\n",
      "                        ***Done using same Solver, and solver_opts as the Simulation1DLayered problem***\n",
      "                        \n",
      "model has any nan: 0\n",
      "============================ Inexact Gauss Newton ============================\n",
      "  #     beta     phi_d     phi_m       f      |proj(x-g)-x|  LS    Comment   \n",
      "-----------------------------------------------------------------------------\n",
      "x0 has any nan: 0\n",
      "   0  0.00e+00  2.06e+07  0.00e+00  2.06e+07    1.27e+07      0              \n",
      "   1  0.00e+00  1.18e+07  2.72e+00  1.18e+07    3.93e+07      0              \n",
      "   2  0.00e+00  5.43e+06  1.79e+00  5.43e+06    5.79e+06      0              \n",
      "   3  0.00e+00  5.18e+06  1.59e+00  5.18e+06    7.16e+05      0   Skip BFGS  \n",
      "   4  0.00e+00  5.18e+06  1.56e+00  5.18e+06    8.03e+04      0   Skip BFGS  \n",
      "   5  0.00e+00  5.18e+06  1.56e+00  5.18e+06    8.85e+03      0   Skip BFGS  \n",
      "   6  0.00e+00  5.18e+06  1.56e+00  5.18e+06    9.73e+02      0   Skip BFGS  \n",
      "   7  0.00e+00  5.18e+06  1.56e+00  5.18e+06    6.32e-03      0   Skip BFGS  \n",
      "------------------------- STOP! -------------------------\n",
      "1 : |fc-fOld| = 8.1252e-03 <= tolF*(1+|f0|) = 2.0552e+06\n",
      "1 : |xc-x_last| = 1.5052e-05 <= tolX*(1+|x0|) = 5.6052e-01\n",
      "1 : |proj(x-g)-x|    = 6.3191e-03 <= tolG          = 1.0000e-01\n",
      "1 : |proj(x-g)-x|    = 6.3191e-03 <= 1e3*eps       = 1.0000e-02\n",
      "0 : maxIter   =      15    <= iter          =      7\n",
      "------------------------- DONE! -------------------------\n",
      "\n",
      "Running inversion with SimPEG v0.22.2\n",
      "simpeg.InvProblem will set Regularization.reference_model to m0.\n",
      "simpeg.InvProblem will set Regularization.reference_model to m0.\n",
      "simpeg.InvProblem will set Regularization.reference_model to m0.\n",
      "\n",
      "                        simpeg.InvProblem is setting bfgsH0 to the inverse of the eval2Deriv.\n",
      "                        ***Done using same Solver, and solver_opts as the Simulation1DLayered problem***\n",
      "                        \n",
      "model has any nan: 0\n",
      "============================ Inexact Gauss Newton ============================\n",
      "  #     beta     phi_d     phi_m       f      |proj(x-g)-x|  LS    Comment   \n",
      "-----------------------------------------------------------------------------\n",
      "x0 has any nan: 0\n",
      "   0  1.00e+00  5.18e+06  0.00e+00  5.18e+06    2.20e+06      0              \n",
      "   1  1.00e+00  2.13e+06  6.36e+02  2.13e+06    2.23e+06      1              \n",
      "   2  1.00e+00  1.05e+06  6.27e+02  1.05e+06    2.28e+06      1   Skip BFGS  \n",
      "   3  5.00e-01  7.11e+05  6.62e+02  7.11e+05    2.38e+06      1   Skip BFGS  \n",
      "   4  5.00e-01  5.98e+05  6.89e+02  5.98e+05    2.48e+06      0   Skip BFGS  \n",
      "   5  5.00e-01  4.54e+04  6.81e+02  4.58e+04    4.99e+05      0              \n",
      "   6  2.50e-01  4.15e+03  6.82e+02  4.32e+03    5.22e+04      0   Skip BFGS  \n",
      "   7  2.50e-01  4.14e+03  6.82e+02  4.31e+03    5.24e+04      5   Skip BFGS  \n",
      "   8  2.50e-01  4.13e+03  6.82e+02  4.30e+03    5.27e+04      5   Skip BFGS  \n",
      "   9  1.25e-01  4.11e+03  6.82e+02  4.20e+03    5.31e+04      5   Skip BFGS  \n",
      "  10  1.25e-01  4.11e+03  6.83e+02  4.19e+03    5.37e+04      5   Skip BFGS  \n",
      "  11  1.25e-01  4.10e+03  6.83e+02  4.19e+03    5.45e+04      5   Skip BFGS  \n",
      "  12  6.25e-02  4.10e+03  6.84e+02  4.14e+03    5.54e+04      5   Skip BFGS  \n",
      "  13  6.25e-02  4.09e+03  6.85e+02  4.13e+03    5.53e+04      6   Skip BFGS  \n",
      "  14  6.25e-02  4.08e+03  6.86e+02  4.12e+03    5.53e+04      6   Skip BFGS  \n",
      "  15  3.12e-02  4.07e+03  6.86e+02  4.09e+03    5.53e+04      6   Skip BFGS  \n",
      "------------------------- STOP! -------------------------\n",
      "1 : |fc-fOld| = 3.2547e+01 <= tolF*(1+|f0|) = 5.1797e+05\n",
      "1 : |xc-x_last| = 5.7155e-02 <= tolX*(1+|x0|) = 2.2232e+00\n",
      "0 : |proj(x-g)-x|    = 5.5320e+04 <= tolG          = 1.0000e-01\n",
      "0 : |proj(x-g)-x|    = 5.5320e+04 <= 1e3*eps       = 1.0000e-02\n",
      "1 : maxIter   =      15    <= iter          =     15\n",
      "------------------------- DONE! -------------------------\n"
     ]
    }
   ],
   "source": [
    "# Process soundings\n",
    "for i in sounding_list:\n",
    "    try:\n",
    "        # Extract sounding data\n",
    "        station, station_lm_data, station_hm_data, station_lm_std, station_hm_std = get_sounding_df(flightline, i, df)\n",
    "        \n",
    "        # add UTM coordinates to transmitter shape and the receiver offset\n",
    "        tx_loc = tx_shape + [station[\"Easting\"].iloc[0], station[\"Northing\"].iloc[0], station[\"Frame_Height\"].iloc[0]]\n",
    "        rx_loc = rx_offset + [station[\"Easting\"].iloc[0], station[\"Northing\"].iloc[0], station[\"Frame_Height\"].iloc[0]]\n",
    "        \n",
    "        # Define source for survey input\n",
    "        # Low moment:\n",
    "        rx_lm = tdem.receivers.PointMagneticFluxTimeDerivative(rx_loc, LM_times, orientation='z')\n",
    "        lm_wave = tdem.sources.PiecewiseLinearWaveform(LM_wave_time, LM_wave_form)\n",
    "        src_lm = tdem.sources.LineCurrent(rx_lm, tx_loc, waveform=lm_wave)\n",
    "        \n",
    "        # high moment\n",
    "        rx_hm = tdem.receivers.PointMagneticFluxTimeDerivative(rx_loc, HM_times, orientation='z')\n",
    "        hm_wave = tdem.sources.PiecewiseLinearWaveform(HM_wave_time, HM_wave_form)\n",
    "        src_hm = tdem.sources.LineCurrent(rx_hm, tx_loc, waveform=hm_wave)\n",
    "        \n",
    "        # Define survey\n",
    "        srv = tdem.Survey([src_lm, src_hm])\n",
    "        \n",
    "        # Observed data (normalised) & relative errors \n",
    "        dobs = -tx_area * np.r_[station_lm_data, station_hm_data]\n",
    "        rel_err = np.r_[station_lm_std, station_hm_std]\n",
    "        data_container = data.Data(srv, dobs=dobs, relative_error=rel_err)\n",
    "        \n",
    "        # Halfspace Inversion\n",
    "        #m_0 = np.log(1E-2)  # sigma = 1E-2 S/m\n",
    "        sim_inv_halfspace = tdem.Simulation1DLayered(srv, sigmaMap=exp_map)\n",
    "        phi_d_halfspace = L2DataMisfit(data=data_container, simulation=sim_inv_halfspace)\n",
    "        minimizer = optimization.InexactGaussNewton(maxIter=15, maxIterLS=20, maxIterCG=10, tolCG=1e-3)\n",
    "        #empty_reg = regularization.Smallness(discretize.TensorMesh([1]))\n",
    "        inv_prob_halfspace = inverse_problem.BaseInvProblem(phi_d_halfspace, reg=empty_reg, opt=minimizer, beta=0.0)\n",
    "        inv_halfspace = inversion.BaseInversion(inv_prob_halfspace, [])\n",
    "        recovered_model = inv_halfspace.run(m_0)\n",
    "        \n",
    "        # Inversion Setup\n",
    "        sim_reg = tdem.Simulation1DLayered(srv, sigmaMap=exp_map, thicknesses=mesh.h[0][:-1])\n",
    "        phi_d_reg = L2DataMisfit(data=data_container, simulation=sim_reg)\n",
    "        reg = regularization.WeightedLeastSquares(mesh)\n",
    "        m_0_reg = np.full(mesh.n_cells, recovered_model[0])\n",
    "        minimizer_reg = optimization.InexactGaussNewton(maxIter=15, maxIterLS=20, maxIterCG=10, tolCG=1e-3)\n",
    "        inv_prob_3 = inverse_problem.BaseInvProblem(phi_d_reg, reg=reg, opt=minimizer_reg)\n",
    "        #beta_schedule = directives.BetaSchedule(coolingFactor=2.0, coolingRate=3)\n",
    "        #save_dict = directives.SaveOutputDictEveryIteration()\n",
    "        inv3 = inversion.BaseInversion(inv_prob_3, [save_dict, beta_schedule])\n",
    "        recovered_model_3 = inv3.run(m_0_reg)\n",
    "        \n",
    "        # Calculate predicted data\n",
    "        data_pred_3 = sim_reg.dpred(recovered_model_3)\n",
    "        \n",
    "        # Extract L-curve information\n",
    "        n_iter = save_dict.opt.iter\n",
    "        phi_ds = [save_dict.outDict[i]['phi_d'] for i in range(1, n_iter)]\n",
    "        phi_ms = [save_dict.outDict[i]['phi_m'] for i in range(1, n_iter)]\n",
    "        betas = [save_dict.outDict[i]['beta'] for i in range(1, n_iter)]\n",
    "        \n",
    "        # Collect data for the current sounding\n",
    "        data_list.append({\n",
    "            'Sounding': i,\n",
    "            'Easting': station[\"Easting\"].iloc[0],\n",
    "            'Northing': station[\"Northing\"].iloc[0],\n",
    "            'DTM_AHD': station[\"DTM_AHD\"].iloc[0],\n",
    "            'Thicknesses': sim_reg.thicknesses.copy(),\n",
    "            'Sigma': sim_reg.sigma.copy(),\n",
    "            'Recovered_Model': recovered_model_3.copy(),\n",
    "            'Predicted_Data': data_pred_3,\n",
    "            'Halfspace_Conductivity': sim_inv_halfspace.sigma,\n",
    "            'Observed_Data': dobs,\n",
    "            # L-curve information\n",
    "            'Phi_d': phi_ds,\n",
    "            'Phi_m': phi_ms,\n",
    "            'Betas': betas,\n",
    "            'N_iterations': n_iter\n",
    "        })\n",
    "        \n",
    "    except Exception as e:\n",
    "        print(f\"Error processing sounding {i}: {e}\")\n",
    "        continue"
   ]
  },
  {
   "cell_type": "code",
   "execution_count": 734,
   "id": "45d845d3-9916-4817-b50a-aa45b7cf2c45",
   "metadata": {},
   "outputs": [
    {
     "data": {
      "image/png": "[encoded data removed]",
      "text/plain": [
       "<Figure size 640x480 with 2 Axes>"
      ]
     },
     "metadata": {},
     "output_type": "display_data"
    }
   ],
   "source": [
    "# Initialize lists to store cumulative thicknesses and sigma values\n",
    "easting_list = []\n",
    "elevation_list = []\n",
    "depth_list = []\n",
    "sigma_list = []\n",
    "Recovered_Model_list = []\n",
    "#Synthetic_Data_list = []\n",
    "Halfspace_Conductivity_list = []\n",
    "Predicted_Data_list = []\n",
    "DTM_AHD_list = []\n",
    "\n",
    "# Process each entry in the data\n",
    "for entry in data_list:\n",
    "    easting = entry['Easting']\n",
    "    thicknesses = entry['Thicknesses']\n",
    "    sigma = entry['Sigma'] #* 0.01\n",
    "    Recovered_Model = entry['Recovered_Model']\n",
    "    #Synthetic_Data = entry['Synthetic_Data']\n",
    "    Halfspace_Conductivity = entry['Halfspace_Conductivity']\n",
    "    Predicted_Data = entry['Predicted_Data']\n",
    "    DTM_AHD = entry['DTM_AHD']\n",
    "    \n",
    "    # Calculate cumulative thicknesses (depths)\n",
    "    cumulative_thicknesses = np.cumsum(thicknesses)\n",
    "\n",
    "    # Ensure the lengths match\n",
    "    min_length = min(len(cumulative_thicknesses), len(sigma))\n",
    "    cumulative_thicknesses = cumulative_thicknesses[:min_length]\n",
    "    sigma = sigma[:min_length]\n",
    "\n",
    "    # Calculate elevation by subtracting depth from topography (DTM_AHD)\n",
    "    elevation = DTM_AHD - cumulative_thicknesses\n",
    "    \n",
    "    # Append values to lists\n",
    "    easting_list.extend([easting] * len(elevation))\n",
    "    elevation_list.extend(elevation)\n",
    "    depth_list.extend(cumulative_thicknesses)\n",
    "    sigma_list.extend(sigma)\n",
    "    Recovered_Model_list.append(Recovered_Model)\n",
    "    Synthetic_Data_list.append(Synthetic_Data)\n",
    "    Halfspace_Conductivity_list.append(Halfspace_Conductivity)\n",
    "    Predicted_Data_list.append(Predicted_Data)\n",
    "    DTM_AHD_list.append(DTM_AHD)\n",
    "\n",
    "# Create a scatter plot with sigma in log scale and set color bar range\n",
    "sc = plt.scatter(easting_list, elevation_list, c=np.log10(sigma_list), cmap='jet', vmin=-3, vmax=0)\n",
    "cbar = plt.colorbar(sc)\n",
    "cbar.set_label('Log(Conductivity (S/m))')\n",
    "plt.xlabel('Easting (m)')\n",
    "plt.ylabel('Elevation (m)')\n",
    "plt.title('Inverted Conductivity on Selected Sounding Location')\n",
    "#plt.gca().invert_yaxis()  # Invert y-axis to have depth increasing downwards\n",
    "plt.show()"
   ]
  },
  {
   "cell_type": "code",
   "execution_count": 693,
   "id": "3c0bb205-66b5-4b6a-9562-3dfbceb8a12b",
   "metadata": {},
   "outputs": [
    {
     "data": {
      "image/png": "[encoded data removed]",
      "text/plain": [
       "<Figure size 600x600 with 1 Axes>"
      ]
     },
     "metadata": {},
     "output_type": "display_data"
    }
   ],
   "source": [
    "# Function to plot a specific sounding\n",
    "def plot_sounding(index):\n",
    "    entry = data_list[index]\n",
    "    thicknesses = entry['Thicknesses']\n",
    "    sigma = entry['Sigma']\n",
    "    recovered_model = entry['Recovered_Model']\n",
    "    #synthetic_data = entry['Synthetic_Data']\n",
    "    halfspace_conductivity = entry['Halfspace_Conductivity']\n",
    "    \n",
    "    # Generate synthetic data\n",
    "    data_pre_3 = synthetic_data\n",
    "    \n",
    "    # Plot the 1D layer model\n",
    "    ax = plot_1d_layer_model(thicknesses, sigma, color='C2')\n",
    "    ax.axvline(halfspace_conductivity, color='C1')\n",
    "    ax.set_ylim([400, 0])\n",
    "    ax.set_xlim([1E-3, 1E5])\n",
    "    plt.show()\n",
    "\n",
    "# Specify which sounding to plot (0, 1, or 2)\n",
    "plot_sounding(2)  # Plot sounding 0\n",
    "# plot_sounding(1)  # Plot sounding 1\n",
    "# plot_sounding(2)  # Plot sounding 2\n"
   ]
  },
  {
   "cell_type": "code",
   "execution_count": 669,
   "id": "6bc293cb-9785-49d7-90f2-e2372d4706cb",
   "metadata": {},
   "outputs": [],
   "source": [
    "def plot_dpred(index):\n",
    "    entry = data_list[index]\n",
    "    recovered_model = entry['Recovered_Model']\n",
    "    data_pre_3 = sim_reg.make_synthetic_data(recovered_model)\n",
    "\n",
    "    # Plot the 1D layer model\n",
    "    ax = plot_data(data_pre_3)\n",
    "    plt.show()"
   ]
  },
  {
   "cell_type": "code",
   "execution_count": 685,
   "id": "856accf5-a850-4143-bd3f-a0b7d50f0de9",
   "metadata": {},
   "outputs": [
    {
     "data": {
      "image/png": "[encoded data removed]",
      "text/plain": [
       "<Figure size 640x480 with 1 Axes>"
      ]
     },
     "metadata": {},
     "output_type": "display_data"
    }
   ],
   "source": [
    "plot_dpred(0)"
   ]
  },
  {
   "cell_type": "code",
   "execution_count": 673,
   "id": "17d76288-81f5-49e3-b6e0-511b644dec2b",
   "metadata": {},
   "outputs": [],
   "source": [
    "# Function to plot a specific sounding\n",
    "def plot_phim_phid(index):\n",
    "    entry = data_list[index]\n",
    "    phids = entry['Phi_d']\n",
    "    phims = entry['Phi_m']\n",
    "    n_iter = entry['N_iterations']\n",
    "    betas = entry['Betas']\n",
    "\n",
    "    # Plot phim_phid\n",
    "    plt.loglog(phims, phids)\n",
    "    plt.loglog(phi_ms[8], phi_ds[8], marker='*', markersize=10)\n",
    "    plt.show()"
   ]
  },
  {
   "cell_type": "code",
   "execution_count": 679,
   "id": "94258f7a-ce79-4454-bb0a-8b703bf4d68a",
   "metadata": {},
   "outputs": [
    {
     "data": {
      "image/png": "[encoded data removed]",
      "text/plain": [
       "<Figure size 640x480 with 1 Axes>"
      ]
     },
     "metadata": {},
     "output_type": "display_data"
    }
   ],
   "source": [
    "plot_phim_phid(0)"
   ]
  },
  {
   "cell_type": "code",
   "execution_count": null,
   "id": "990fb5d8-1a05-4354-9fe0-6d4bb07b27ec",
   "metadata": {},
   "outputs": [],
   "source": []
  }
 ],
 "metadata": {
  "kernelspec": {
   "display_name": "Python [conda env:simpeg-env]",
   "language": "python",
   "name": "conda-env-simpeg-env-py"
  },
  "language_info": {
   "codemirror_mode": {
    "name": "ipython",
    "version": 3
   },
   "file_extension": ".py",
   "mimetype": "text/x-python",
   "name": "python",
   "nbconvert_exporter": "python",
   "pygments_lexer": "ipython3",
   "version": "3.9.21"
  }
 },
 "nbformat": 4,
 "nbformat_minor": 5
}
